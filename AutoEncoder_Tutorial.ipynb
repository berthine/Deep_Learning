{
  "nbformat": 4,
  "nbformat_minor": 0,
  "metadata": {
    "colab": {
      "name": "AutoEncoder_Tutorial.ipynb",
      "provenance": [],
      "authorship_tag": "ABX9TyP1EQnNJlEKSYZdShYVhFUY",
      "include_colab_link": true
    },
    "kernelspec": {
      "name": "python3",
      "display_name": "Python 3"
    }
  },
  "cells": [
    {
      "cell_type": "markdown",
      "metadata": {
        "id": "view-in-github",
        "colab_type": "text"
      },
      "source": [
        "<a href=\"https://colab.research.google.com/github/berthine/Deep_Learning/blob/master/AutoEncoder_Tutorial.ipynb\" target=\"_parent\"><img src=\"https://colab.research.google.com/assets/colab-badge.svg\" alt=\"Open In Colab\"/></a>"
      ]
    },
    {
      "cell_type": "code",
      "metadata": {
        "id": "97HQ3RjPo_0E",
        "colab_type": "code",
        "colab": {}
      },
      "source": [
        ""
      ],
      "execution_count": 0,
      "outputs": []
    },
    {
      "cell_type": "markdown",
      "metadata": {
        "id": "5-vm1qEBpJN0",
        "colab_type": "text"
      },
      "source": [
        "## **AutoEncoders** \n",
        "\n",
        "Autoencoders are an unsupervised learning technique in which we leverage neural networks for the task of representation learning. Specifically, In this notbook we'll design a neural network architecture such that we impose a **bottleneck** in the network which **forces a compressed knowledge representation of the original input**.\n",
        "\n",
        "**The bottleneck** is a key attribute of our network design; without the presence of an information bottleneck, our network could easily learn to simply memorize the input values by passing these values along through the network (visualized below).\n",
        "\n",
        "A bottleneck constrains the amount of information that can traverse the full network, forcing a learned compression of the input data.\n",
        "\n",
        "The steps:\n",
        "* **Imports**\n"
      ]
    },
    {
      "cell_type": "code",
      "metadata": {
        "id": "vSwuU9jXpN0f",
        "colab_type": "code",
        "colab": {}
      },
      "source": [
        "import numpy as np\n",
        "import torch\n",
        "from torchvision import datasets\n",
        "import torchvision.transforms as transforms"
      ],
      "execution_count": 0,
      "outputs": []
    },
    {
      "cell_type": "markdown",
      "metadata": {
        "id": "uK13l21fp13W",
        "colab_type": "text"
      },
      "source": [
        "* **Dowloads/split the MNIST dataset**"
      ]
    },
    {
      "cell_type": "code",
      "metadata": {
        "id": "MZYP-uQIpupZ",
        "colab_type": "code",
        "colab": {}
      },
      "source": [
        "transform = transforms.ToTensor()\n",
        "train_data =  datasets.MNIST(root='data', transform=transform, download=True, train=True)\n",
        "test_data = datasets.MNIST(root='data', transform=transform, download=True, train=False)"
      ],
      "execution_count": 0,
      "outputs": []
    },
    {
      "cell_type": "markdown",
      "metadata": {
        "id": "cwsCoPiZq_CI",
        "colab_type": "text"
      },
      "source": [
        "* **Create a**  **Dataloader**"
      ]
    },
    {
      "cell_type": "code",
      "metadata": {
        "id": "Vl1HdyPWq-Vu",
        "colab_type": "code",
        "colab": {}
      },
      "source": [
        "train_loader = torch.utils.data.DataLoader(train_data, batch_size=32)\n",
        "test_loader = torch.utils.data.DataLoader(test_data, batch_size=32)"
      ],
      "execution_count": 0,
      "outputs": []
    },
    {
      "cell_type": "markdown",
      "metadata": {
        "id": "XHuNlS04r3vA",
        "colab_type": "text"
      },
      "source": [
        "* **Visualize the data**"
      ]
    },
    {
      "cell_type": "code",
      "metadata": {
        "id": "RC_K30Ucr2ez",
        "colab_type": "code",
        "colab": {
          "base_uri": "https://localhost:8080/",
          "height": 34
        },
        "outputId": "6610b8f1-6cc9-4d6f-fb51-8cddc3de2016"
      },
      "source": [
        "train_iter = iter(train_loader)\n",
        "\n",
        "imags,_= train_iter.next()\n",
        "print(imags.shape)"
      ],
      "execution_count": 31,
      "outputs": [
        {
          "output_type": "stream",
          "text": [
            "torch.Size([32, 1, 28, 28])\n"
          ],
          "name": "stdout"
        }
      ]
    },
    {
      "cell_type": "code",
      "metadata": {
        "id": "04Wc6X1p5XrA",
        "colab_type": "code",
        "colab": {}
      },
      "source": [
        ""
      ],
      "execution_count": 0,
      "outputs": []
    },
    {
      "cell_type": "markdown",
      "metadata": {
        "id": "uOyV4JrKfBkO",
        "colab_type": "text"
      },
      "source": [
        "* **Show Image**"
      ]
    },
    {
      "cell_type": "code",
      "metadata": {
        "id": "cCogUrYhsT6d",
        "colab_type": "code",
        "colab": {
          "base_uri": "https://localhost:8080/",
          "height": 282
        },
        "outputId": "53a8694a-2d7e-40c3-c2cc-ddec09a4e95b"
      },
      "source": [
        "import matplotlib.pyplot as plt\n",
        " #define a data from the training\n",
        "train_iter = iter(train_loader)\n",
        " #get one batch from the training data\n",
        "images_, _ = train_iter.next()\n",
        " #get the first image and convert it to numpy\n",
        "\n",
        "x= np.array(images_[0])\n",
        "im = np.squeeze(np.array(images_[0]))\n",
        "plt.imshow(im, cmap ='gray')"
      ],
      "execution_count": 37,
      "outputs": [
        {
          "output_type": "execute_result",
          "data": {
            "text/plain": [
              "<matplotlib.image.AxesImage at 0x7f136404def0>"
            ]
          },
          "metadata": {
            "tags": []
          },
          "execution_count": 37
        },
        {
          "output_type": "display_data",
          "data": {
            "image/png": "[encoded data removed]",
            "text/plain": [
              "<Figure size 432x288 with 1 Axes>"
            ]
          },
          "metadata": {
            "tags": []
          }
        }
      ]
    },
    {
      "cell_type": "markdown",
      "metadata": {
        "id": "SYKgDZSjuw2m",
        "colab_type": "text"
      },
      "source": [
        "* Define model"
      ]
    },
    {
      "cell_type": "code",
      "metadata": {
        "id": "RqaXGEUTuueS",
        "colab_type": "code",
        "colab": {
          "base_uri": "https://localhost:8080/",
          "height": 121
        },
        "outputId": "511775b5-5778-4f1e-84d6-6846387d70c5"
      },
      "source": [
        "import torch.nn as nn\n",
        "import torch.nn.functional as F\n",
        "\n",
        "class LinearModel(nn.Module):\n",
        "  def __init__(self, input_size, bottle_neck_size):\n",
        "    super(LinearModel, self).__init__()\n",
        "\n",
        "#Encoder part\n",
        "    self.fc1 = nn.Linear(input_size, bottle_neck_size)\n",
        "    self.relu = nn.ReLU()\n",
        "\n",
        "#Decoder part\n",
        "    self.fc2 = nn.Linear(bottle_neck_size, input_size)\n",
        "    self.sigmoid = nn.Sigmoid()\n",
        "\n",
        "  def forward(self, x):\n",
        "    #relu activation\n",
        "    x = self.fc1(x)\n",
        "    x = self.relu(x)\n",
        "    #relu activation\n",
        "    x = self.fc2(x)\n",
        "    x= self.sigmoid(x)\n",
        "\n",
        "    return x\n",
        "\n",
        "model = LinearModel(28*28, 32)\n",
        "print(model)"
      ],
      "execution_count": 53,
      "outputs": [
        {
          "output_type": "stream",
          "text": [
            "LinearModel(\n",
            "  (fc1): Linear(in_features=784, out_features=32, bias=True)\n",
            "  (relu): ReLU()\n",
            "  (fc2): Linear(in_features=32, out_features=784, bias=True)\n",
            "  (sigmoid): Sigmoid()\n",
            ")\n"
          ],
          "name": "stdout"
        }
      ]
    },
    {
      "cell_type": "markdown",
      "metadata": {
        "id": "2Y5SqMaqxLEP",
        "colab_type": "text"
      },
      "source": [
        "* **Define the loss function/ optimizer**"
      ]
    },
    {
      "cell_type": "code",
      "metadata": {
        "id": "RETRMHS9xKsi",
        "colab_type": "code",
        "colab": {
          "base_uri": "https://localhost:8080/",
          "height": 156
        },
        "outputId": "ddaee11a-468c-4bcb-8391-11354fbd3af7"
      },
      "source": [
        "criterion = nn.MSELoss()\n",
        "optimizer = torch.optim.SGD(model.parameters(), lr = 0.01)\n",
        "print(optimizer)"
      ],
      "execution_count": 54,
      "outputs": [
        {
          "output_type": "stream",
          "text": [
            "SGD (\n",
            "Parameter Group 0\n",
            "    dampening: 0\n",
            "    lr: 0.01\n",
            "    momentum: 0\n",
            "    nesterov: False\n",
            "    weight_decay: 0\n",
            ")\n"
          ],
          "name": "stdout"
        }
      ]
    },
    {
      "cell_type": "markdown",
      "metadata": {
        "id": "EG-5Bujpxsgm",
        "colab_type": "text"
      },
      "source": [
        "* **Training Loop**"
      ]
    },
    {
      "cell_type": "code",
      "metadata": {
        "id": "E-OlUk7gwsOp",
        "colab_type": "code",
        "colab": {
          "base_uri": "https://localhost:8080/",
          "height": 364
        },
        "outputId": "07bafd5d-d77c-4357-a304-ee9cba61fcd9"
      },
      "source": [
        "n_epochs = 20\n",
        "for i in range(n_epochs):\n",
        "  train_loss = 0.0\n",
        "  for data in train_loader:\n",
        "    images, _ = data\n",
        "    images = images.view(images.shape[0],-1)\n",
        "\n",
        "    optimizer.zero_grad()\n",
        "    outputs = model(images)\n",
        "\n",
        "    loss = criterion(outputs, images)\n",
        "\n",
        "    loss.backward()\n",
        "\n",
        "    optimizer.step()\n",
        "\n",
        "    train_loss +=loss.item()\n",
        "\n",
        "  print('epoch: ',i, 'train_loss : ', train_loss)\n"
      ],
      "execution_count": 55,
      "outputs": [
        {
          "output_type": "stream",
          "text": [
            "epoch:  0 train_loss :  72.68161721527576\n",
            "epoch:  1 train_loss :  72.4509519636631\n",
            "epoch:  2 train_loss :  72.28599752485752\n",
            "epoch:  3 train_loss :  72.14582481980324\n",
            "epoch:  4 train_loss :  72.01218563318253\n",
            "epoch:  5 train_loss :  71.87760150432587\n",
            "epoch:  6 train_loss :  71.73732174932957\n",
            "epoch:  7 train_loss :  71.58681444823742\n",
            "epoch:  8 train_loss :  71.42253312468529\n",
            "epoch:  9 train_loss :  71.24270342290401\n",
            "epoch:  10 train_loss :  71.04730151593685\n",
            "epoch:  11 train_loss :  70.83622169494629\n",
            "epoch:  12 train_loss :  70.60661302506924\n",
            "epoch:  13 train_loss :  70.35441219806671\n",
            "epoch:  14 train_loss :  70.07519942522049\n",
            "epoch:  15 train_loss :  69.7644314467907\n",
            "epoch:  16 train_loss :  69.4174312800169\n",
            "epoch:  17 train_loss :  69.02920730412006\n",
            "epoch:  18 train_loss :  68.59452080726624\n",
            "epoch:  19 train_loss :  68.10786972939968\n"
          ],
          "name": "stdout"
        }
      ]
    },
    {
      "cell_type": "markdown",
      "metadata": {
        "id": "7QFp5AlRfmn5",
        "colab_type": "text"
      },
      "source": [
        "**Plot the first ten input images and then reconstructed images**"
      ]
    },
    {
      "cell_type": "code",
      "metadata": {
        "id": "chUS9YkAw1UC",
        "colab_type": "code",
        "colab": {
          "base_uri": "https://localhost:8080/",
          "height": 252
        },
        "outputId": "5387f59a-f8a3-4fc8-f979-1371b464dde7"
      },
      "source": [
        "# obtain one batch of test images\n",
        "dataiter = iter(test_loader)\n",
        "images, labels = dataiter.next()\n",
        "batch_size = 32\n",
        "\n",
        "images_flatten = images.view(images.size(0), -1)\n",
        "# get sample outputs\n",
        "output = model(images_flatten)\n",
        "# prep images for display\n",
        "images = images.numpy()\n",
        "\n",
        "# output is resized into a batch of images\n",
        "output = output.view(batch_size, 1, 28, 28)\n",
        "# use detach when it's an output that requires_grad\n",
        "output = output.detach().numpy()\n",
        "\n",
        "# plot the first ten input images and then reconstructed images\n",
        "fig, axes = plt.subplots(nrows=2, ncols=10, sharex=True, sharey=True, figsize=(25,4))\n",
        "\n",
        "# input images on top row, reconstructions on bottom\n",
        "for images, row in zip([images, output], axes):\n",
        "    for img, ax in zip(images, row):\n",
        "        ax.imshow(np.squeeze(img), cmap='gray')\n",
        "        ax.get_xaxis().set_visible(False)\n",
        "        ax.get_yaxis().set_visible(False)"
      ],
      "execution_count": 59,
      "outputs": [
        {
          "output_type": "display_data",
          "data": {
            "image/png": "[encoded data removed]",
            "text/plain": [
              "<Figure size 1800x288 with 20 Axes>"
            ]
          },
          "metadata": {
            "tags": []
          }
        }
      ]
    }
  ]
}