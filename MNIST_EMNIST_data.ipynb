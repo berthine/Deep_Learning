{
 "cells": [
  {
   "cell_type": "markdown",
   "metadata": {},
   "source": [
    "# Neural Network with Keras"
   ]
  },
  {
   "cell_type": "markdown",
   "metadata": {},
   "source": [
    "## MNIST (handwritting data)"
   ]
  },
  {
   "cell_type": "markdown",
   "metadata": {},
   "source": [
    "<img src = 'deep_mnist.png'>"
   ]
  },
  {
   "cell_type": "code",
   "execution_count": 68,
   "metadata": {},
   "outputs": [],
   "source": [
    "import numpy as np\n",
    "import pandas as pd\n",
    "import matplotlib.pyplot as plt\n",
    "import seaborn as sns\n",
    "from sklearn.preprocessing import StandardScaler\n",
    "from sklearn.svm import SVC\n",
    "from sklearn.pipeline import Pipeline\n",
    "from sklearn.model_selection import GridSearchCV\n",
    "from sklearn.model_selection import train_test_split\n",
    "import cv2"
   ]
  },
  {
   "cell_type": "code",
   "execution_count": 69,
   "metadata": {},
   "outputs": [],
   "source": [
    "data_train =pd.read_csv(\"mnist_train.csv\")\n",
    "data_test = pd.read_csv(\"mnist_test.csv\")"
   ]
  },
  {
   "cell_type": "code",
   "execution_count": 70,
   "metadata": {},
   "outputs": [
    {
     "data": {
      "text/plain": [
       "(59999, 785)"
      ]
     },
     "execution_count": 70,
     "metadata": {},
     "output_type": "execute_result"
    }
   ],
   "source": [
    "data_train.shape"
   ]
  },
  {
   "cell_type": "code",
   "execution_count": 71,
   "metadata": {},
   "outputs": [
    {
     "data": {
      "text/plain": [
       "59999"
      ]
     },
     "execution_count": 71,
     "metadata": {},
     "output_type": "execute_result"
    }
   ],
   "source": [
    "len(data_train)"
   ]
  },
  {
   "cell_type": "code",
   "execution_count": 72,
   "metadata": {},
   "outputs": [
    {
     "data": {
      "text/plain": [
       "(9999, 785)"
      ]
     },
     "execution_count": 72,
     "metadata": {},
     "output_type": "execute_result"
    }
   ],
   "source": [
    "data_test.shape"
   ]
  },
  {
   "cell_type": "code",
   "execution_count": 73,
   "metadata": {},
   "outputs": [
    {
     "data": {
      "text/html": [
       "<div>\n",
       "<style scoped>\n",
       "    .dataframe tbody tr th:only-of-type {\n",
       "        vertical-align: middle;\n",
       "    }\n",
       "\n",
       "    .dataframe tbody tr th {\n",
       "        vertical-align: top;\n",
       "    }\n",
       "\n",
       "    .dataframe thead th {\n",
       "        text-align: right;\n",
       "    }\n",
       "</style>\n",
       "<table border=\"1\" class=\"dataframe\">\n",
       "  <thead>\n",
       "    <tr style=\"text-align: right;\">\n",
       "      <th></th>\n",
       "      <th>5</th>\n",
       "      <th>0</th>\n",
       "      <th>0.1</th>\n",
       "      <th>0.2</th>\n",
       "      <th>0.3</th>\n",
       "      <th>0.4</th>\n",
       "      <th>0.5</th>\n",
       "      <th>0.6</th>\n",
       "      <th>0.7</th>\n",
       "      <th>0.8</th>\n",
       "      <th>...</th>\n",
       "      <th>0.608</th>\n",
       "      <th>0.609</th>\n",
       "      <th>0.610</th>\n",
       "      <th>0.611</th>\n",
       "      <th>0.612</th>\n",
       "      <th>0.613</th>\n",
       "      <th>0.614</th>\n",
       "      <th>0.615</th>\n",
       "      <th>0.616</th>\n",
       "      <th>0.617</th>\n",
       "    </tr>\n",
       "  </thead>\n",
       "  <tbody>\n",
       "    <tr>\n",
       "      <th>0</th>\n",
       "      <td>0</td>\n",
       "      <td>0</td>\n",
       "      <td>0</td>\n",
       "      <td>0</td>\n",
       "      <td>0</td>\n",
       "      <td>0</td>\n",
       "      <td>0</td>\n",
       "      <td>0</td>\n",
       "      <td>0</td>\n",
       "      <td>0</td>\n",
       "      <td>...</td>\n",
       "      <td>0</td>\n",
       "      <td>0</td>\n",
       "      <td>0</td>\n",
       "      <td>0</td>\n",
       "      <td>0</td>\n",
       "      <td>0</td>\n",
       "      <td>0</td>\n",
       "      <td>0</td>\n",
       "      <td>0</td>\n",
       "      <td>0</td>\n",
       "    </tr>\n",
       "    <tr>\n",
       "      <th>1</th>\n",
       "      <td>4</td>\n",
       "      <td>0</td>\n",
       "      <td>0</td>\n",
       "      <td>0</td>\n",
       "      <td>0</td>\n",
       "      <td>0</td>\n",
       "      <td>0</td>\n",
       "      <td>0</td>\n",
       "      <td>0</td>\n",
       "      <td>0</td>\n",
       "      <td>...</td>\n",
       "      <td>0</td>\n",
       "      <td>0</td>\n",
       "      <td>0</td>\n",
       "      <td>0</td>\n",
       "      <td>0</td>\n",
       "      <td>0</td>\n",
       "      <td>0</td>\n",
       "      <td>0</td>\n",
       "      <td>0</td>\n",
       "      <td>0</td>\n",
       "    </tr>\n",
       "    <tr>\n",
       "      <th>2</th>\n",
       "      <td>1</td>\n",
       "      <td>0</td>\n",
       "      <td>0</td>\n",
       "      <td>0</td>\n",
       "      <td>0</td>\n",
       "      <td>0</td>\n",
       "      <td>0</td>\n",
       "      <td>0</td>\n",
       "      <td>0</td>\n",
       "      <td>0</td>\n",
       "      <td>...</td>\n",
       "      <td>0</td>\n",
       "      <td>0</td>\n",
       "      <td>0</td>\n",
       "      <td>0</td>\n",
       "      <td>0</td>\n",
       "      <td>0</td>\n",
       "      <td>0</td>\n",
       "      <td>0</td>\n",
       "      <td>0</td>\n",
       "      <td>0</td>\n",
       "    </tr>\n",
       "    <tr>\n",
       "      <th>3</th>\n",
       "      <td>9</td>\n",
       "      <td>0</td>\n",
       "      <td>0</td>\n",
       "      <td>0</td>\n",
       "      <td>0</td>\n",
       "      <td>0</td>\n",
       "      <td>0</td>\n",
       "      <td>0</td>\n",
       "      <td>0</td>\n",
       "      <td>0</td>\n",
       "      <td>...</td>\n",
       "      <td>0</td>\n",
       "      <td>0</td>\n",
       "      <td>0</td>\n",
       "      <td>0</td>\n",
       "      <td>0</td>\n",
       "      <td>0</td>\n",
       "      <td>0</td>\n",
       "      <td>0</td>\n",
       "      <td>0</td>\n",
       "      <td>0</td>\n",
       "    </tr>\n",
       "    <tr>\n",
       "      <th>4</th>\n",
       "      <td>2</td>\n",
       "      <td>0</td>\n",
       "      <td>0</td>\n",
       "      <td>0</td>\n",
       "      <td>0</td>\n",
       "      <td>0</td>\n",
       "      <td>0</td>\n",
       "      <td>0</td>\n",
       "      <td>0</td>\n",
       "      <td>0</td>\n",
       "      <td>...</td>\n",
       "      <td>0</td>\n",
       "      <td>0</td>\n",
       "      <td>0</td>\n",
       "      <td>0</td>\n",
       "      <td>0</td>\n",
       "      <td>0</td>\n",
       "      <td>0</td>\n",
       "      <td>0</td>\n",
       "      <td>0</td>\n",
       "      <td>0</td>\n",
       "    </tr>\n",
       "  </tbody>\n",
       "</table>\n",
       "<p>5 rows × 785 columns</p>\n",
       "</div>"
      ],
      "text/plain": [
       "   5  0  0.1  0.2  0.3  0.4  0.5  0.6  0.7  0.8  ...    0.608  0.609  0.610  \\\n",
       "0  0  0    0    0    0    0    0    0    0    0  ...        0      0      0   \n",
       "1  4  0    0    0    0    0    0    0    0    0  ...        0      0      0   \n",
       "2  1  0    0    0    0    0    0    0    0    0  ...        0      0      0   \n",
       "3  9  0    0    0    0    0    0    0    0    0  ...        0      0      0   \n",
       "4  2  0    0    0    0    0    0    0    0    0  ...        0      0      0   \n",
       "\n",
       "   0.611  0.612  0.613  0.614  0.615  0.616  0.617  \n",
       "0      0      0      0      0      0      0      0  \n",
       "1      0      0      0      0      0      0      0  \n",
       "2      0      0      0      0      0      0      0  \n",
       "3      0      0      0      0      0      0      0  \n",
       "4      0      0      0      0      0      0      0  \n",
       "\n",
       "[5 rows x 785 columns]"
      ]
     },
     "execution_count": 73,
     "metadata": {},
     "output_type": "execute_result"
    }
   ],
   "source": [
    "data_train.head()"
   ]
  },
  {
   "cell_type": "code",
   "execution_count": 138,
   "metadata": {},
   "outputs": [],
   "source": [
    "x__train =data_train.iloc[:,1:]\n",
    "y__train = (data_train.iloc[:,0])"
   ]
  },
  {
   "cell_type": "code",
   "execution_count": 139,
   "metadata": {},
   "outputs": [],
   "source": [
    "x__test =data_test.iloc[:,1:]\n",
    "y__test =(data_test.iloc[:,0])"
   ]
  },
  {
   "cell_type": "code",
   "execution_count": 140,
   "metadata": {},
   "outputs": [
    {
     "data": {
      "text/plain": [
       "(59999, 784)"
      ]
     },
     "execution_count": 140,
     "metadata": {},
     "output_type": "execute_result"
    }
   ],
   "source": [
    "x__train.shape"
   ]
  },
  {
   "cell_type": "code",
   "execution_count": 141,
   "metadata": {},
   "outputs": [
    {
     "data": {
      "text/plain": [
       "59999"
      ]
     },
     "execution_count": 141,
     "metadata": {},
     "output_type": "execute_result"
    }
   ],
   "source": [
    "len(x__train)"
   ]
  },
  {
   "cell_type": "code",
   "execution_count": 142,
   "metadata": {},
   "outputs": [
    {
     "data": {
      "text/plain": [
       "(9999, 784)"
      ]
     },
     "execution_count": 142,
     "metadata": {},
     "output_type": "execute_result"
    }
   ],
   "source": [
    "x__test.shape\n"
   ]
  },
  {
   "cell_type": "code",
   "execution_count": 144,
   "metadata": {},
   "outputs": [
    {
     "data": {
      "text/plain": [
       "array([0, 1, 2, 3, 4, 5, 6, 7, 8, 9])"
      ]
     },
     "execution_count": 144,
     "metadata": {},
     "output_type": "execute_result"
    }
   ],
   "source": [
    "np.unique(y__test)"
   ]
  },
  {
   "cell_type": "markdown",
   "metadata": {},
   "source": [
    "### Show some images"
   ]
  },
  {
   "cell_type": "code",
   "execution_count": 145,
   "metadata": {},
   "outputs": [
    {
     "data": {
      "image/png": "[encoded data removed]",
      "text/plain": [
       "<Figure size 1440x288 with 6 Axes>"
      ]
     },
     "metadata": {
      "needs_background": "light"
     },
     "output_type": "display_data"
    }
   ],
   "source": [
    "plt.figure(figsize=(20,4))\n",
    "for index, (image, label) in enumerate(zip(np.array(x__train[9:15]), np.array(y__train[9:15]))):\n",
    "    plt.subplot(1,7, index+1)\n",
    "    plt.imshow(np.reshape(image,(28,28)), cmap = plt.cm.gray)\n",
    "    plt.title('Training %i\\n'%label, fontsize = 15)"
   ]
  },
  {
   "cell_type": "markdown",
   "metadata": {},
   "source": [
    "That's how our data is looklike"
   ]
  },
  {
   "cell_type": "code",
   "execution_count": 80,
   "metadata": {},
   "outputs": [],
   "source": [
    "from keras.models import Sequential\n",
    "from keras.layers.core import Dense, Activation\n",
    "from keras.optimizers import SGD\n",
    "from keras.utils import np_utils\n",
    "np.random.seed(1671) # for reproducibility"
   ]
  },
  {
   "cell_type": "code",
   "execution_count": 81,
   "metadata": {},
   "outputs": [],
   "source": [
    "# network and training\n",
    "NB_EPOCH = 200\n",
    "BATCH_SIZE = 64\n",
    "VERBOSE = 1\n",
    "N_OUTPUTS = 10 # number of outputs = number of digits\n",
    "OPTIMIZER = SGD() # SGD optimizer, explained later in this chapter\n",
    "N_HIDDEN = 128\n",
    "VALIDATION_SPLIT=0.2 # how much TRAIN is reserved for VALIDATION\n",
    "RESHAPED = 784"
   ]
  },
  {
   "cell_type": "code",
   "execution_count": 82,
   "metadata": {},
   "outputs": [
    {
     "name": "stdout",
     "output_type": "stream",
     "text": [
      "59999 train samples\n",
      "9999 test samples\n"
     ]
    }
   ],
   "source": [
    "# normalize\n",
    "#\n",
    "x__train /= 255\n",
    "x__test /= 255\n",
    "print(x__train.shape[0], 'train samples')\n",
    "print(x__test.shape[0], 'test samples')\n"
   ]
  },
  {
   "cell_type": "markdown",
   "metadata": {},
   "source": [
    "# Let define our model with one hidden layer"
   ]
  },
  {
   "cell_type": "code",
   "execution_count": 83,
   "metadata": {},
   "outputs": [],
   "source": [
    "# convert class vectors to binary class matrices\n",
    "y__train = np_utils.to_categorical(y__train, NB_CLASSES)\n",
    "y__test = np_utils.to_categorical(y__test, NB_CLASSES)"
   ]
  },
  {
   "cell_type": "code",
   "execution_count": 84,
   "metadata": {},
   "outputs": [
    {
     "name": "stdout",
     "output_type": "stream",
     "text": [
      "Model: \"sequential_5\"\n",
      "_________________________________________________________________\n",
      "Layer (type)                 Output Shape              Param #   \n",
      "=================================================================\n",
      "dense_4 (Dense)              (None, 10)                7850      \n",
      "_________________________________________________________________\n",
      "activation_4 (Activation)    (None, 10)                0         \n",
      "=================================================================\n",
      "Total params: 7,850\n",
      "Trainable params: 7,850\n",
      "Non-trainable params: 0\n",
      "_________________________________________________________________\n"
     ]
    }
   ],
   "source": [
    "# 10 outputs\n",
    "# final stage is softmax\n",
    "model = Sequential()\n",
    "model.add(Dense(NB_CLASSES, input_shape=(RESHAPED,)))\n",
    "model.add(Activation('softmax'))\n",
    "model.summary()"
   ]
  },
  {
   "cell_type": "markdown",
   "metadata": {},
   "source": [
    "Once we define the model, we have to compile it so that it can be executed by the Keras backend\n",
    "(either Theano or TensorFlow). There are a few choices to be made during compilation:\n",
    "- We need to select the **optimizer** that is the specific algorithm used to update weights while we train our model\n",
    "- We need to select the  **objective function** that is used by the optimizer to navigate the space of weights (frequently, objective functions are called loss function, and the process of optimization\n",
    "is defined as a process of loss minimization)\n",
    "- We need to evaluate the trained model"
   ]
  },
  {
   "cell_type": "code",
   "execution_count": 85,
   "metadata": {},
   "outputs": [],
   "source": [
    "model.compile(loss='categorical_crossentropy', optimizer=OPTIMIZER, metrics=['accuracy'])"
   ]
  },
  {
   "cell_type": "markdown",
   "metadata": {},
   "source": [
    "#### Categorical cross-entropy: This is the multiclass logarithmic loss.\n",
    "\n",
    "This objective function is suitable for multiclass labels predictions. It is also the default choice in association with softmax activation.\n",
    "\n",
    "Once the model is compiled, it can be then trained with the fit() function, which specifies a few parameters:\n",
    "- *epochs* : This is the number of times the model is exposed to the training set. At each iteration, the\n",
    "optimizer tries to adjust the weights so that the objective function is minimized.\n",
    "- *batch_size* : This is the number of training instances observed before the optimizer performs a weight update.\n",
    "\n",
    "We reserved part of the training set for validation. The key idea is that we reserve a part of the training data for measuring the performance on the validation while\n",
    "training. This is a good practice to follow for any machine learning task."
   ]
  },
  {
   "cell_type": "code",
   "execution_count": 86,
   "metadata": {},
   "outputs": [
    {
     "name": "stdout",
     "output_type": "stream",
     "text": [
      "WARNING:tensorflow:From /home/aims/.local/lib/python3.7/site-packages/keras/backend/tensorflow_backend.py:422: The name tf.global_variables is deprecated. Please use tf.compat.v1.global_variables instead.\n",
      "\n",
      "Train on 47999 samples, validate on 12000 samples\n",
      "Epoch 1/200\n",
      "47999/47999 [==============================] - 2s 39us/step - loss: 1.0781 - accuracy: 0.7512 - val_loss: 0.6567 - val_accuracy: 0.8553\n",
      "Epoch 2/200\n",
      "47999/47999 [==============================] - 2s 39us/step - loss: 0.6081 - accuracy: 0.8552 - val_loss: 0.5103 - val_accuracy: 0.8760\n",
      "Epoch 3/200\n",
      "47999/47999 [==============================] - 1s 30us/step - loss: 0.5129 - accuracy: 0.8705 - val_loss: 0.4515 - val_accuracy: 0.8857\n",
      "Epoch 4/200\n",
      "47999/47999 [==============================] - 1s 30us/step - loss: 0.4665 - accuracy: 0.8782 - val_loss: 0.4192 - val_accuracy: 0.8916\n",
      "Epoch 5/200\n",
      "47999/47999 [==============================] - 1s 29us/step - loss: 0.4379 - accuracy: 0.8839 - val_loss: 0.3978 - val_accuracy: 0.8965\n",
      "Epoch 6/200\n",
      "47999/47999 [==============================] - 1s 30us/step - loss: 0.4179 - accuracy: 0.8878 - val_loss: 0.3831 - val_accuracy: 0.8983\n",
      "Epoch 7/200\n",
      "47999/47999 [==============================] - 1s 30us/step - loss: 0.4031 - accuracy: 0.8908 - val_loss: 0.3715 - val_accuracy: 0.9007\n",
      "Epoch 8/200\n",
      "47999/47999 [==============================] - 1s 30us/step - loss: 0.3914 - accuracy: 0.8936 - val_loss: 0.3622 - val_accuracy: 0.9023\n",
      "Epoch 9/200\n",
      "47999/47999 [==============================] - 1s 31us/step - loss: 0.3819 - accuracy: 0.8952 - val_loss: 0.3546 - val_accuracy: 0.9042\n",
      "Epoch 10/200\n",
      "47999/47999 [==============================] - 2s 37us/step - loss: 0.3740 - accuracy: 0.8975 - val_loss: 0.3483 - val_accuracy: 0.9051\n",
      "Epoch 11/200\n",
      "47999/47999 [==============================] - 1s 28us/step - loss: 0.3673 - accuracy: 0.8987 - val_loss: 0.3433 - val_accuracy: 0.9061\n",
      "Epoch 12/200\n",
      "47999/47999 [==============================] - 1s 30us/step - loss: 0.3615 - accuracy: 0.8999 - val_loss: 0.3387 - val_accuracy: 0.9067\n",
      "Epoch 13/200\n",
      "47999/47999 [==============================] - 1s 28us/step - loss: 0.3564 - accuracy: 0.9014 - val_loss: 0.3346 - val_accuracy: 0.9081\n",
      "Epoch 14/200\n",
      "47999/47999 [==============================] - 2s 35us/step - loss: 0.3518 - accuracy: 0.9022 - val_loss: 0.3313 - val_accuracy: 0.9093\n",
      "Epoch 15/200\n",
      "47999/47999 [==============================] - 1s 31us/step - loss: 0.3478 - accuracy: 0.9034 - val_loss: 0.3277 - val_accuracy: 0.9094\n",
      "Epoch 16/200\n",
      "47999/47999 [==============================] - 1s 30us/step - loss: 0.3441 - accuracy: 0.9043 - val_loss: 0.3253 - val_accuracy: 0.9097\n",
      "Epoch 17/200\n",
      "47999/47999 [==============================] - 1s 30us/step - loss: 0.3409 - accuracy: 0.9052 - val_loss: 0.3223 - val_accuracy: 0.9109\n",
      "Epoch 18/200\n",
      "47999/47999 [==============================] - 1s 29us/step - loss: 0.3377 - accuracy: 0.9063 - val_loss: 0.3201 - val_accuracy: 0.9111\n",
      "Epoch 19/200\n",
      "47999/47999 [==============================] - 1s 30us/step - loss: 0.3350 - accuracy: 0.9070 - val_loss: 0.3178 - val_accuracy: 0.9120\n",
      "Epoch 20/200\n",
      "47999/47999 [==============================] - 2s 34us/step - loss: 0.3324 - accuracy: 0.9074 - val_loss: 0.3160 - val_accuracy: 0.9124\n",
      "Epoch 21/200\n",
      "47999/47999 [==============================] - 2s 32us/step - loss: 0.3301 - accuracy: 0.9082 - val_loss: 0.3139 - val_accuracy: 0.9133\n",
      "Epoch 22/200\n",
      "47999/47999 [==============================] - 1s 31us/step - loss: 0.3278 - accuracy: 0.9091 - val_loss: 0.3124 - val_accuracy: 0.9131\n",
      "Epoch 23/200\n",
      "47999/47999 [==============================] - 2s 31us/step - loss: 0.3258 - accuracy: 0.9093 - val_loss: 0.3105 - val_accuracy: 0.9140\n",
      "Epoch 24/200\n",
      "47999/47999 [==============================] - 1s 31us/step - loss: 0.3238 - accuracy: 0.9098 - val_loss: 0.3092 - val_accuracy: 0.9148\n",
      "Epoch 25/200\n",
      "47999/47999 [==============================] - 1s 31us/step - loss: 0.3220 - accuracy: 0.9105 - val_loss: 0.3077 - val_accuracy: 0.9146\n",
      "Epoch 26/200\n",
      "47999/47999 [==============================] - 1s 30us/step - loss: 0.3203 - accuracy: 0.9110 - val_loss: 0.3062 - val_accuracy: 0.9143\n",
      "Epoch 27/200\n",
      "47999/47999 [==============================] - 1s 30us/step - loss: 0.3186 - accuracy: 0.9114 - val_loss: 0.3051 - val_accuracy: 0.9153\n",
      "Epoch 28/200\n",
      "47999/47999 [==============================] - 2s 31us/step - loss: 0.3172 - accuracy: 0.9117 - val_loss: 0.3039 - val_accuracy: 0.9158\n",
      "Epoch 29/200\n",
      "47999/47999 [==============================] - 1s 31us/step - loss: 0.3157 - accuracy: 0.9124 - val_loss: 0.3028 - val_accuracy: 0.9154\n",
      "Epoch 30/200\n",
      "47999/47999 [==============================] - 2s 32us/step - loss: 0.3143 - accuracy: 0.9126 - val_loss: 0.3018 - val_accuracy: 0.9152\n",
      "Epoch 31/200\n",
      "47999/47999 [==============================] - 2s 36us/step - loss: 0.3129 - accuracy: 0.9129 - val_loss: 0.3008 - val_accuracy: 0.9156\n",
      "Epoch 32/200\n",
      "47999/47999 [==============================] - 1s 31us/step - loss: 0.3117 - accuracy: 0.9136 - val_loss: 0.2998 - val_accuracy: 0.9160\n",
      "Epoch 33/200\n",
      "47999/47999 [==============================] - 1s 27us/step - loss: 0.3105 - accuracy: 0.9134 - val_loss: 0.2989 - val_accuracy: 0.9168\n",
      "Epoch 34/200\n",
      "47999/47999 [==============================] - 1s 27us/step - loss: 0.3094 - accuracy: 0.9138 - val_loss: 0.2979 - val_accuracy: 0.9165\n",
      "Epoch 35/200\n",
      "47999/47999 [==============================] - 1s 28us/step - loss: 0.3082 - accuracy: 0.9140 - val_loss: 0.2974 - val_accuracy: 0.9163\n",
      "Epoch 36/200\n",
      "47999/47999 [==============================] - 1s 28us/step - loss: 0.3072 - accuracy: 0.9142 - val_loss: 0.2965 - val_accuracy: 0.9168\n",
      "Epoch 37/200\n",
      "47999/47999 [==============================] - 1s 27us/step - loss: 0.3062 - accuracy: 0.9149 - val_loss: 0.2955 - val_accuracy: 0.9172\n",
      "Epoch 38/200\n",
      "47999/47999 [==============================] - 1s 27us/step - loss: 0.3052 - accuracy: 0.9152 - val_loss: 0.2949 - val_accuracy: 0.9175\n",
      "Epoch 39/200\n",
      "47999/47999 [==============================] - 2s 37us/step - loss: 0.3043 - accuracy: 0.9150 - val_loss: 0.2942 - val_accuracy: 0.9173\n",
      "Epoch 40/200\n",
      "47999/47999 [==============================] - 1s 31us/step - loss: 0.3033 - accuracy: 0.9157 - val_loss: 0.2937 - val_accuracy: 0.9178\n",
      "Epoch 41/200\n",
      "47999/47999 [==============================] - 2s 35us/step - loss: 0.3025 - accuracy: 0.9159 - val_loss: 0.2931 - val_accuracy: 0.9183\n",
      "Epoch 42/200\n",
      "47999/47999 [==============================] - 2s 32us/step - loss: 0.3016 - accuracy: 0.9157 - val_loss: 0.2925 - val_accuracy: 0.9184\n",
      "Epoch 43/200\n",
      "47999/47999 [==============================] - 2s 31us/step - loss: 0.3009 - accuracy: 0.9162 - val_loss: 0.2917 - val_accuracy: 0.9186\n",
      "Epoch 44/200\n",
      "47999/47999 [==============================] - 2s 31us/step - loss: 0.3001 - accuracy: 0.9164 - val_loss: 0.2913 - val_accuracy: 0.9191\n",
      "Epoch 45/200\n",
      "47999/47999 [==============================] - 2s 31us/step - loss: 0.2993 - accuracy: 0.9165 - val_loss: 0.2910 - val_accuracy: 0.9192\n",
      "Epoch 46/200\n",
      "47999/47999 [==============================] - 2s 33us/step - loss: 0.2986 - accuracy: 0.9166 - val_loss: 0.2900 - val_accuracy: 0.9197\n",
      "Epoch 47/200\n",
      "47999/47999 [==============================] - 1s 31us/step - loss: 0.2979 - accuracy: 0.9170 - val_loss: 0.2897 - val_accuracy: 0.9191\n",
      "Epoch 48/200\n",
      "47999/47999 [==============================] - 1s 31us/step - loss: 0.2972 - accuracy: 0.9174 - val_loss: 0.2890 - val_accuracy: 0.9197\n",
      "Epoch 49/200\n",
      "47999/47999 [==============================] - 2s 32us/step - loss: 0.2965 - accuracy: 0.9174 - val_loss: 0.2889 - val_accuracy: 0.9199\n",
      "Epoch 50/200\n",
      "47999/47999 [==============================] - 1s 31us/step - loss: 0.2958 - accuracy: 0.9177 - val_loss: 0.2882 - val_accuracy: 0.9195\n",
      "Epoch 51/200\n",
      "47999/47999 [==============================] - 1s 30us/step - loss: 0.2952 - accuracy: 0.9176 - val_loss: 0.2878 - val_accuracy: 0.9199\n",
      "Epoch 52/200\n",
      "47999/47999 [==============================] - 1s 31us/step - loss: 0.2946 - accuracy: 0.9180 - val_loss: 0.2874 - val_accuracy: 0.9205\n",
      "Epoch 53/200\n",
      "47999/47999 [==============================] - 2s 31us/step - loss: 0.2940 - accuracy: 0.9182 - val_loss: 0.2869 - val_accuracy: 0.9204\n",
      "Epoch 54/200\n",
      "47999/47999 [==============================] - 2s 32us/step - loss: 0.2934 - accuracy: 0.9185 - val_loss: 0.2866 - val_accuracy: 0.9205\n",
      "Epoch 55/200\n",
      "47999/47999 [==============================] - 1s 31us/step - loss: 0.2928 - accuracy: 0.9181 - val_loss: 0.2861 - val_accuracy: 0.9207\n",
      "Epoch 56/200\n",
      "47999/47999 [==============================] - 1s 31us/step - loss: 0.2923 - accuracy: 0.9182 - val_loss: 0.2857 - val_accuracy: 0.9210\n",
      "Epoch 57/200\n",
      "47999/47999 [==============================] - 1s 30us/step - loss: 0.2918 - accuracy: 0.9189 - val_loss: 0.2855 - val_accuracy: 0.9211\n",
      "Epoch 58/200\n",
      "47999/47999 [==============================] - 1s 31us/step - loss: 0.2912 - accuracy: 0.9188 - val_loss: 0.2848 - val_accuracy: 0.9212\n",
      "Epoch 59/200\n",
      "47999/47999 [==============================] - 2s 31us/step - loss: 0.2907 - accuracy: 0.9187 - val_loss: 0.2846 - val_accuracy: 0.9212\n",
      "Epoch 60/200\n",
      "47999/47999 [==============================] - 1s 31us/step - loss: 0.2902 - accuracy: 0.9192 - val_loss: 0.2845 - val_accuracy: 0.9208\n",
      "Epoch 61/200\n",
      "47999/47999 [==============================] - 2s 33us/step - loss: 0.2897 - accuracy: 0.9190 - val_loss: 0.2840 - val_accuracy: 0.9212\n",
      "Epoch 62/200\n",
      "47999/47999 [==============================] - 1s 31us/step - loss: 0.2893 - accuracy: 0.9194 - val_loss: 0.2837 - val_accuracy: 0.9214\n",
      "Epoch 63/200\n",
      "47999/47999 [==============================] - 1s 30us/step - loss: 0.2888 - accuracy: 0.9194 - val_loss: 0.2834 - val_accuracy: 0.9214\n",
      "Epoch 64/200\n",
      "47999/47999 [==============================] - 2s 31us/step - loss: 0.2883 - accuracy: 0.9196 - val_loss: 0.2832 - val_accuracy: 0.9214\n",
      "Epoch 65/200\n",
      "47999/47999 [==============================] - 1s 31us/step - loss: 0.2879 - accuracy: 0.9197 - val_loss: 0.2828 - val_accuracy: 0.9213\n",
      "Epoch 66/200\n",
      "47999/47999 [==============================] - 1s 30us/step - loss: 0.2875 - accuracy: 0.9197 - val_loss: 0.2825 - val_accuracy: 0.9212\n",
      "Epoch 67/200\n",
      "47999/47999 [==============================] - 1s 31us/step - loss: 0.2871 - accuracy: 0.9200 - val_loss: 0.2821 - val_accuracy: 0.9215\n",
      "Epoch 68/200\n",
      "47999/47999 [==============================] - 1s 31us/step - loss: 0.2866 - accuracy: 0.9200 - val_loss: 0.2818 - val_accuracy: 0.9218\n",
      "Epoch 69/200\n",
      "47999/47999 [==============================] - 1s 30us/step - loss: 0.2862 - accuracy: 0.9199 - val_loss: 0.2816 - val_accuracy: 0.9217\n",
      "Epoch 70/200\n",
      "47999/47999 [==============================] - 2s 31us/step - loss: 0.2858 - accuracy: 0.9196 - val_loss: 0.2814 - val_accuracy: 0.9215\n",
      "Epoch 71/200\n",
      "47999/47999 [==============================] - 1s 31us/step - loss: 0.2854 - accuracy: 0.9199 - val_loss: 0.2812 - val_accuracy: 0.9219\n",
      "Epoch 72/200\n",
      "47999/47999 [==============================] - 1s 31us/step - loss: 0.2850 - accuracy: 0.9202 - val_loss: 0.2809 - val_accuracy: 0.9215\n",
      "Epoch 73/200\n",
      "47999/47999 [==============================] - 1s 30us/step - loss: 0.2847 - accuracy: 0.9206 - val_loss: 0.2806 - val_accuracy: 0.9222\n",
      "Epoch 74/200\n",
      "47999/47999 [==============================] - 2s 34us/step - loss: 0.2842 - accuracy: 0.9207 - val_loss: 0.2804 - val_accuracy: 0.9222\n",
      "Epoch 75/200\n",
      "47999/47999 [==============================] - 2s 31us/step - loss: 0.2839 - accuracy: 0.9209 - val_loss: 0.2801 - val_accuracy: 0.9222\n",
      "Epoch 76/200\n",
      "47999/47999 [==============================] - 2s 31us/step - loss: 0.2836 - accuracy: 0.9206 - val_loss: 0.2799 - val_accuracy: 0.9227\n",
      "Epoch 77/200\n",
      "47999/47999 [==============================] - 1s 30us/step - loss: 0.2832 - accuracy: 0.9211 - val_loss: 0.2796 - val_accuracy: 0.9222\n",
      "Epoch 78/200\n",
      "47999/47999 [==============================] - 1s 30us/step - loss: 0.2829 - accuracy: 0.9211 - val_loss: 0.2795 - val_accuracy: 0.9223\n",
      "Epoch 79/200\n",
      "47999/47999 [==============================] - 1s 31us/step - loss: 0.2825 - accuracy: 0.9210 - val_loss: 0.2792 - val_accuracy: 0.9227\n",
      "Epoch 80/200\n",
      "47999/47999 [==============================] - 1s 30us/step - loss: 0.2821 - accuracy: 0.9211 - val_loss: 0.2791 - val_accuracy: 0.9224\n",
      "Epoch 81/200\n",
      "47999/47999 [==============================] - 2s 33us/step - loss: 0.2819 - accuracy: 0.9211 - val_loss: 0.2788 - val_accuracy: 0.9223\n",
      "Epoch 82/200\n",
      "47999/47999 [==============================] - 1s 31us/step - loss: 0.2815 - accuracy: 0.9215 - val_loss: 0.2787 - val_accuracy: 0.9222\n",
      "Epoch 83/200\n",
      "47999/47999 [==============================] - 2s 32us/step - loss: 0.2812 - accuracy: 0.9213 - val_loss: 0.2785 - val_accuracy: 0.9229\n",
      "Epoch 84/200\n",
      "47999/47999 [==============================] - 1s 30us/step - loss: 0.2809 - accuracy: 0.9217 - val_loss: 0.2784 - val_accuracy: 0.9228\n",
      "Epoch 85/200\n",
      "47999/47999 [==============================] - 1s 30us/step - loss: 0.2807 - accuracy: 0.9216 - val_loss: 0.2781 - val_accuracy: 0.9227\n",
      "Epoch 86/200\n",
      "47999/47999 [==============================] - 1s 30us/step - loss: 0.2802 - accuracy: 0.9217 - val_loss: 0.2781 - val_accuracy: 0.9222\n",
      "Epoch 87/200\n",
      "47999/47999 [==============================] - 1s 31us/step - loss: 0.2800 - accuracy: 0.9216 - val_loss: 0.2778 - val_accuracy: 0.9230\n",
      "Epoch 88/200\n",
      "47999/47999 [==============================] - 1s 31us/step - loss: 0.2797 - accuracy: 0.9220 - val_loss: 0.2775 - val_accuracy: 0.9230\n",
      "Epoch 89/200\n",
      "47999/47999 [==============================] - 1s 31us/step - loss: 0.2794 - accuracy: 0.9220 - val_loss: 0.2776 - val_accuracy: 0.9227\n",
      "Epoch 90/200\n",
      "47999/47999 [==============================] - 2s 32us/step - loss: 0.2791 - accuracy: 0.9221 - val_loss: 0.2772 - val_accuracy: 0.9238\n",
      "Epoch 91/200\n",
      "47999/47999 [==============================] - 2s 38us/step - loss: 0.2788 - accuracy: 0.9222 - val_loss: 0.2772 - val_accuracy: 0.9233\n",
      "Epoch 92/200\n",
      "47999/47999 [==============================] - 2s 35us/step - loss: 0.2785 - accuracy: 0.9223 - val_loss: 0.2768 - val_accuracy: 0.9234\n",
      "Epoch 93/200\n",
      "47999/47999 [==============================] - 1s 31us/step - loss: 0.2783 - accuracy: 0.9223 - val_loss: 0.2768 - val_accuracy: 0.9234\n",
      "Epoch 94/200\n",
      "47999/47999 [==============================] - 1s 30us/step - loss: 0.2781 - accuracy: 0.9222 - val_loss: 0.2766 - val_accuracy: 0.9233\n",
      "Epoch 95/200\n",
      "47999/47999 [==============================] - 1s 30us/step - loss: 0.2778 - accuracy: 0.9226 - val_loss: 0.2767 - val_accuracy: 0.9235\n",
      "Epoch 96/200\n",
      "47999/47999 [==============================] - 1s 30us/step - loss: 0.2775 - accuracy: 0.9224 - val_loss: 0.2763 - val_accuracy: 0.9231\n",
      "Epoch 97/200\n",
      "47999/47999 [==============================] - 1s 30us/step - loss: 0.2773 - accuracy: 0.9226 - val_loss: 0.2761 - val_accuracy: 0.9236\n",
      "Epoch 98/200\n",
      "47999/47999 [==============================] - 1s 29us/step - loss: 0.2770 - accuracy: 0.9226 - val_loss: 0.2760 - val_accuracy: 0.9243\n",
      "Epoch 99/200\n",
      "47999/47999 [==============================] - 1s 29us/step - loss: 0.2768 - accuracy: 0.9228 - val_loss: 0.2759 - val_accuracy: 0.9233\n",
      "Epoch 100/200\n",
      "47999/47999 [==============================] - 1s 30us/step - loss: 0.2765 - accuracy: 0.9230 - val_loss: 0.2758 - val_accuracy: 0.9235\n",
      "Epoch 101/200\n",
      "47999/47999 [==============================] - 2s 32us/step - loss: 0.2763 - accuracy: 0.9230 - val_loss: 0.2756 - val_accuracy: 0.9239\n",
      "Epoch 102/200\n",
      "47999/47999 [==============================] - 1s 30us/step - loss: 0.2760 - accuracy: 0.9234 - val_loss: 0.2754 - val_accuracy: 0.9241\n",
      "Epoch 103/200\n",
      "47999/47999 [==============================] - 1s 30us/step - loss: 0.2758 - accuracy: 0.9230 - val_loss: 0.2751 - val_accuracy: 0.9242\n",
      "Epoch 104/200\n",
      "47999/47999 [==============================] - 1s 29us/step - loss: 0.2756 - accuracy: 0.9232 - val_loss: 0.2751 - val_accuracy: 0.9237\n",
      "Epoch 105/200\n",
      "47999/47999 [==============================] - 1s 29us/step - loss: 0.2754 - accuracy: 0.9234 - val_loss: 0.2750 - val_accuracy: 0.9245\n",
      "Epoch 106/200\n",
      "47999/47999 [==============================] - 1s 29us/step - loss: 0.2751 - accuracy: 0.9235 - val_loss: 0.2750 - val_accuracy: 0.9237\n",
      "Epoch 107/200\n",
      "47999/47999 [==============================] - 1s 30us/step - loss: 0.2749 - accuracy: 0.9235 - val_loss: 0.2749 - val_accuracy: 0.9239\n",
      "Epoch 108/200\n",
      "47999/47999 [==============================] - 1s 30us/step - loss: 0.2747 - accuracy: 0.9232 - val_loss: 0.2749 - val_accuracy: 0.9236\n",
      "Epoch 109/200\n",
      "47999/47999 [==============================] - 1s 30us/step - loss: 0.2745 - accuracy: 0.9234 - val_loss: 0.2745 - val_accuracy: 0.9243\n",
      "Epoch 110/200\n",
      "47999/47999 [==============================] - 1s 30us/step - loss: 0.2742 - accuracy: 0.9236 - val_loss: 0.2744 - val_accuracy: 0.9243\n",
      "Epoch 111/200\n",
      "47999/47999 [==============================] - 1s 30us/step - loss: 0.2740 - accuracy: 0.9236 - val_loss: 0.2743 - val_accuracy: 0.9244\n",
      "Epoch 112/200\n",
      "47999/47999 [==============================] - 1s 30us/step - loss: 0.2738 - accuracy: 0.9238 - val_loss: 0.2741 - val_accuracy: 0.9247\n",
      "Epoch 113/200\n",
      "47999/47999 [==============================] - 1s 29us/step - loss: 0.2736 - accuracy: 0.9236 - val_loss: 0.2740 - val_accuracy: 0.9247\n",
      "Epoch 114/200\n",
      "47999/47999 [==============================] - 1s 30us/step - loss: 0.2734 - accuracy: 0.9240 - val_loss: 0.2741 - val_accuracy: 0.9245\n",
      "Epoch 115/200\n",
      "47999/47999 [==============================] - 1s 29us/step - loss: 0.2732 - accuracy: 0.9237 - val_loss: 0.2740 - val_accuracy: 0.9239\n",
      "Epoch 116/200\n",
      "47999/47999 [==============================] - 1s 30us/step - loss: 0.2731 - accuracy: 0.9237 - val_loss: 0.2738 - val_accuracy: 0.9243\n",
      "Epoch 117/200\n",
      "47999/47999 [==============================] - 1s 29us/step - loss: 0.2728 - accuracy: 0.9238 - val_loss: 0.2739 - val_accuracy: 0.9243\n",
      "Epoch 118/200\n",
      "47999/47999 [==============================] - 1s 29us/step - loss: 0.2726 - accuracy: 0.9240 - val_loss: 0.2736 - val_accuracy: 0.9246\n",
      "Epoch 119/200\n",
      "47999/47999 [==============================] - 2s 33us/step - loss: 0.2723 - accuracy: 0.9244 - val_loss: 0.2735 - val_accuracy: 0.9248\n",
      "Epoch 120/200\n",
      "47999/47999 [==============================] - 2s 39us/step - loss: 0.2722 - accuracy: 0.9243 - val_loss: 0.2733 - val_accuracy: 0.9245\n",
      "Epoch 121/200\n",
      "47999/47999 [==============================] - 1s 29us/step - loss: 0.2720 - accuracy: 0.9241 - val_loss: 0.2734 - val_accuracy: 0.9247\n",
      "Epoch 122/200\n",
      "47999/47999 [==============================] - 1s 27us/step - loss: 0.2718 - accuracy: 0.9244 - val_loss: 0.2732 - val_accuracy: 0.9249\n",
      "Epoch 123/200\n",
      "47999/47999 [==============================] - 1s 27us/step - loss: 0.2717 - accuracy: 0.9245 - val_loss: 0.2732 - val_accuracy: 0.9243\n",
      "Epoch 124/200\n",
      "47999/47999 [==============================] - 1s 28us/step - loss: 0.2715 - accuracy: 0.9245 - val_loss: 0.2729 - val_accuracy: 0.9247\n",
      "Epoch 125/200\n",
      "47999/47999 [==============================] - 1s 28us/step - loss: 0.2713 - accuracy: 0.9246 - val_loss: 0.2728 - val_accuracy: 0.9247\n",
      "Epoch 126/200\n",
      "47999/47999 [==============================] - 1s 28us/step - loss: 0.2711 - accuracy: 0.9247 - val_loss: 0.2728 - val_accuracy: 0.9245\n",
      "Epoch 127/200\n",
      "47999/47999 [==============================] - 1s 27us/step - loss: 0.2709 - accuracy: 0.9243 - val_loss: 0.2728 - val_accuracy: 0.9243\n",
      "Epoch 128/200\n",
      "47999/47999 [==============================] - 1s 28us/step - loss: 0.2708 - accuracy: 0.9247 - val_loss: 0.2727 - val_accuracy: 0.9247\n",
      "Epoch 129/200\n",
      "47999/47999 [==============================] - 1s 27us/step - loss: 0.2705 - accuracy: 0.9247 - val_loss: 0.2726 - val_accuracy: 0.9245\n",
      "Epoch 130/200\n",
      "47999/47999 [==============================] - 1s 28us/step - loss: 0.2704 - accuracy: 0.9250 - val_loss: 0.2724 - val_accuracy: 0.9248\n",
      "Epoch 131/200\n",
      "47999/47999 [==============================] - 1s 29us/step - loss: 0.2703 - accuracy: 0.9247 - val_loss: 0.2723 - val_accuracy: 0.9245\n",
      "Epoch 132/200\n",
      "47999/47999 [==============================] - 1s 28us/step - loss: 0.2701 - accuracy: 0.9250 - val_loss: 0.2723 - val_accuracy: 0.9247\n",
      "Epoch 133/200\n",
      "47999/47999 [==============================] - 1s 27us/step - loss: 0.2699 - accuracy: 0.9252 - val_loss: 0.2722 - val_accuracy: 0.9243\n",
      "Epoch 134/200\n",
      "47999/47999 [==============================] - 1s 28us/step - loss: 0.2697 - accuracy: 0.9250 - val_loss: 0.2721 - val_accuracy: 0.9248\n",
      "Epoch 135/200\n",
      "47999/47999 [==============================] - 1s 28us/step - loss: 0.2696 - accuracy: 0.9249 - val_loss: 0.2720 - val_accuracy: 0.9246\n",
      "Epoch 136/200\n",
      "47999/47999 [==============================] - 1s 27us/step - loss: 0.2694 - accuracy: 0.9251 - val_loss: 0.2722 - val_accuracy: 0.9245\n",
      "Epoch 137/200\n",
      "47999/47999 [==============================] - 1s 28us/step - loss: 0.2692 - accuracy: 0.9247 - val_loss: 0.2718 - val_accuracy: 0.9250\n",
      "Epoch 138/200\n",
      "47999/47999 [==============================] - 1s 28us/step - loss: 0.2691 - accuracy: 0.9249 - val_loss: 0.2719 - val_accuracy: 0.9250\n",
      "Epoch 139/200\n",
      "47999/47999 [==============================] - 1s 27us/step - loss: 0.2689 - accuracy: 0.9253 - val_loss: 0.2719 - val_accuracy: 0.9252\n",
      "Epoch 140/200\n",
      "47999/47999 [==============================] - 1s 28us/step - loss: 0.2688 - accuracy: 0.9256 - val_loss: 0.2716 - val_accuracy: 0.9254\n",
      "Epoch 141/200\n",
      "47999/47999 [==============================] - 1s 28us/step - loss: 0.2686 - accuracy: 0.9250 - val_loss: 0.2715 - val_accuracy: 0.9252\n",
      "Epoch 142/200\n",
      "47999/47999 [==============================] - 1s 28us/step - loss: 0.2684 - accuracy: 0.9256 - val_loss: 0.2716 - val_accuracy: 0.9252\n",
      "Epoch 143/200\n",
      "47999/47999 [==============================] - 1s 31us/step - loss: 0.2683 - accuracy: 0.9254 - val_loss: 0.2715 - val_accuracy: 0.9246\n",
      "Epoch 144/200\n",
      "47999/47999 [==============================] - 1s 31us/step - loss: 0.2682 - accuracy: 0.9251 - val_loss: 0.2714 - val_accuracy: 0.9247\n",
      "Epoch 145/200\n",
      "47999/47999 [==============================] - 1s 28us/step - loss: 0.2680 - accuracy: 0.9255 - val_loss: 0.2712 - val_accuracy: 0.9249\n",
      "Epoch 146/200\n",
      "47999/47999 [==============================] - 1s 29us/step - loss: 0.2678 - accuracy: 0.9251 - val_loss: 0.2711 - val_accuracy: 0.9248\n",
      "Epoch 147/200\n",
      "47999/47999 [==============================] - 1s 27us/step - loss: 0.2677 - accuracy: 0.9257 - val_loss: 0.2712 - val_accuracy: 0.9249\n",
      "Epoch 148/200\n",
      "47999/47999 [==============================] - 1s 27us/step - loss: 0.2676 - accuracy: 0.9256 - val_loss: 0.2709 - val_accuracy: 0.9249\n",
      "Epoch 149/200\n",
      "47999/47999 [==============================] - 1s 27us/step - loss: 0.2674 - accuracy: 0.9256 - val_loss: 0.2710 - val_accuracy: 0.9249\n",
      "Epoch 150/200\n",
      "47999/47999 [==============================] - 1s 27us/step - loss: 0.2673 - accuracy: 0.9260 - val_loss: 0.2710 - val_accuracy: 0.9247\n",
      "Epoch 151/200\n",
      "47999/47999 [==============================] - 1s 27us/step - loss: 0.2672 - accuracy: 0.9256 - val_loss: 0.2708 - val_accuracy: 0.9248\n",
      "Epoch 152/200\n",
      "47999/47999 [==============================] - 1s 28us/step - loss: 0.2670 - accuracy: 0.9255 - val_loss: 0.2709 - val_accuracy: 0.9250\n",
      "Epoch 153/200\n",
      "47999/47999 [==============================] - 1s 29us/step - loss: 0.2669 - accuracy: 0.9258 - val_loss: 0.2707 - val_accuracy: 0.9250\n",
      "Epoch 154/200\n",
      "47999/47999 [==============================] - 1s 29us/step - loss: 0.2668 - accuracy: 0.9257 - val_loss: 0.2706 - val_accuracy: 0.9252\n",
      "Epoch 155/200\n",
      "47999/47999 [==============================] - 1s 28us/step - loss: 0.2666 - accuracy: 0.9256 - val_loss: 0.2706 - val_accuracy: 0.9248\n",
      "Epoch 156/200\n",
      "47999/47999 [==============================] - 1s 28us/step - loss: 0.2665 - accuracy: 0.9258 - val_loss: 0.2705 - val_accuracy: 0.9256\n",
      "Epoch 157/200\n",
      "47999/47999 [==============================] - 1s 28us/step - loss: 0.2663 - accuracy: 0.9257 - val_loss: 0.2704 - val_accuracy: 0.9252\n",
      "Epoch 158/200\n",
      "47999/47999 [==============================] - 1s 27us/step - loss: 0.2662 - accuracy: 0.9258 - val_loss: 0.2704 - val_accuracy: 0.9251\n",
      "Epoch 159/200\n",
      "47999/47999 [==============================] - 1s 26us/step - loss: 0.2661 - accuracy: 0.9258 - val_loss: 0.2704 - val_accuracy: 0.9249\n",
      "Epoch 160/200\n",
      "47999/47999 [==============================] - 1s 26us/step - loss: 0.2660 - accuracy: 0.9258 - val_loss: 0.2704 - val_accuracy: 0.9252\n",
      "Epoch 161/200\n",
      "47999/47999 [==============================] - 1s 27us/step - loss: 0.2658 - accuracy: 0.9263 - val_loss: 0.2704 - val_accuracy: 0.9256\n",
      "Epoch 162/200\n",
      "47999/47999 [==============================] - 1s 26us/step - loss: 0.2657 - accuracy: 0.9259 - val_loss: 0.2703 - val_accuracy: 0.9250\n",
      "Epoch 163/200\n",
      "47999/47999 [==============================] - 1s 27us/step - loss: 0.2656 - accuracy: 0.9259 - val_loss: 0.2701 - val_accuracy: 0.9247\n",
      "Epoch 164/200\n",
      "47999/47999 [==============================] - 1s 27us/step - loss: 0.2655 - accuracy: 0.9262 - val_loss: 0.2700 - val_accuracy: 0.9249\n",
      "Epoch 165/200\n",
      "47999/47999 [==============================] - 1s 28us/step - loss: 0.2653 - accuracy: 0.9260 - val_loss: 0.2700 - val_accuracy: 0.9252\n",
      "Epoch 166/200\n",
      "47999/47999 [==============================] - 1s 29us/step - loss: 0.2652 - accuracy: 0.9262 - val_loss: 0.2700 - val_accuracy: 0.9253\n",
      "Epoch 167/200\n",
      "47999/47999 [==============================] - 1s 27us/step - loss: 0.2651 - accuracy: 0.9262 - val_loss: 0.2698 - val_accuracy: 0.9249\n",
      "Epoch 168/200\n",
      "47999/47999 [==============================] - 1s 26us/step - loss: 0.2650 - accuracy: 0.9263 - val_loss: 0.2699 - val_accuracy: 0.9252\n",
      "Epoch 169/200\n",
      "47999/47999 [==============================] - 1s 26us/step - loss: 0.2648 - accuracy: 0.9264 - val_loss: 0.2699 - val_accuracy: 0.9254\n",
      "Epoch 170/200\n",
      "47999/47999 [==============================] - 1s 26us/step - loss: 0.2647 - accuracy: 0.9264 - val_loss: 0.2697 - val_accuracy: 0.9256\n",
      "Epoch 171/200\n",
      "47999/47999 [==============================] - 1s 26us/step - loss: 0.2646 - accuracy: 0.9262 - val_loss: 0.2697 - val_accuracy: 0.9256\n",
      "Epoch 172/200\n",
      "47999/47999 [==============================] - 1s 26us/step - loss: 0.2645 - accuracy: 0.9264 - val_loss: 0.2696 - val_accuracy: 0.9256\n",
      "Epoch 173/200\n",
      "47999/47999 [==============================] - 1s 26us/step - loss: 0.2644 - accuracy: 0.9263 - val_loss: 0.2695 - val_accuracy: 0.9254\n",
      "Epoch 174/200\n",
      "47999/47999 [==============================] - 1s 26us/step - loss: 0.2643 - accuracy: 0.9265 - val_loss: 0.2696 - val_accuracy: 0.9256\n",
      "Epoch 175/200\n",
      "47999/47999 [==============================] - 1s 26us/step - loss: 0.2641 - accuracy: 0.9264 - val_loss: 0.2694 - val_accuracy: 0.9254\n",
      "Epoch 176/200\n",
      "47999/47999 [==============================] - 1s 27us/step - loss: 0.2640 - accuracy: 0.9266 - val_loss: 0.2693 - val_accuracy: 0.9252\n",
      "Epoch 177/200\n",
      "47999/47999 [==============================] - 1s 26us/step - loss: 0.2639 - accuracy: 0.9264 - val_loss: 0.2695 - val_accuracy: 0.9257\n",
      "Epoch 178/200\n",
      "47999/47999 [==============================] - 1s 27us/step - loss: 0.2638 - accuracy: 0.9266 - val_loss: 0.2693 - val_accuracy: 0.9252\n",
      "Epoch 179/200\n",
      "47999/47999 [==============================] - 1s 26us/step - loss: 0.2636 - accuracy: 0.9263 - val_loss: 0.2693 - val_accuracy: 0.9260\n",
      "Epoch 180/200\n",
      "47999/47999 [==============================] - 1s 26us/step - loss: 0.2635 - accuracy: 0.9269 - val_loss: 0.2692 - val_accuracy: 0.9253\n",
      "Epoch 181/200\n",
      "47999/47999 [==============================] - 2s 32us/step - loss: 0.2634 - accuracy: 0.9267 - val_loss: 0.2693 - val_accuracy: 0.9253\n",
      "Epoch 182/200\n",
      "47999/47999 [==============================] - 1s 31us/step - loss: 0.2633 - accuracy: 0.9265 - val_loss: 0.2692 - val_accuracy: 0.9257\n",
      "Epoch 183/200\n",
      "47999/47999 [==============================] - 2s 37us/step - loss: 0.2632 - accuracy: 0.9267 - val_loss: 0.2690 - val_accuracy: 0.9257\n",
      "Epoch 184/200\n",
      "47999/47999 [==============================] - 2s 42us/step - loss: 0.2631 - accuracy: 0.9265 - val_loss: 0.2691 - val_accuracy: 0.9252\n",
      "Epoch 185/200\n",
      "47999/47999 [==============================] - 2s 32us/step - loss: 0.2630 - accuracy: 0.9267 - val_loss: 0.2692 - val_accuracy: 0.9257\n",
      "Epoch 186/200\n",
      "47999/47999 [==============================] - 2s 35us/step - loss: 0.2629 - accuracy: 0.9269 - val_loss: 0.2689 - val_accuracy: 0.9261\n",
      "Epoch 187/200\n",
      "47999/47999 [==============================] - 2s 36us/step - loss: 0.2628 - accuracy: 0.9269 - val_loss: 0.2691 - val_accuracy: 0.9254\n",
      "Epoch 188/200\n",
      "47999/47999 [==============================] - 2s 46us/step - loss: 0.2627 - accuracy: 0.9268 - val_loss: 0.2688 - val_accuracy: 0.9259\n",
      "Epoch 189/200\n",
      "47999/47999 [==============================] - 1s 28us/step - loss: 0.2625 - accuracy: 0.9267 - val_loss: 0.2689 - val_accuracy: 0.9256\n",
      "Epoch 190/200\n",
      "47999/47999 [==============================] - 2s 32us/step - loss: 0.2625 - accuracy: 0.9268 - val_loss: 0.2686 - val_accuracy: 0.9255\n",
      "Epoch 191/200\n",
      "47999/47999 [==============================] - 1s 30us/step - loss: 0.2624 - accuracy: 0.9269 - val_loss: 0.2687 - val_accuracy: 0.9258\n",
      "Epoch 192/200\n",
      "47999/47999 [==============================] - 1s 31us/step - loss: 0.2623 - accuracy: 0.9272 - val_loss: 0.2688 - val_accuracy: 0.9260\n",
      "Epoch 193/200\n",
      "47999/47999 [==============================] - 1s 27us/step - loss: 0.2622 - accuracy: 0.9269 - val_loss: 0.2687 - val_accuracy: 0.9259\n",
      "Epoch 194/200\n",
      "47999/47999 [==============================] - 1s 26us/step - loss: 0.2621 - accuracy: 0.9267 - val_loss: 0.2685 - val_accuracy: 0.9265\n",
      "Epoch 195/200\n",
      "47999/47999 [==============================] - 2s 34us/step - loss: 0.2620 - accuracy: 0.9271 - val_loss: 0.2687 - val_accuracy: 0.9259\n",
      "Epoch 196/200\n",
      "47999/47999 [==============================] - 1s 27us/step - loss: 0.2619 - accuracy: 0.9269 - val_loss: 0.2686 - val_accuracy: 0.9261\n",
      "Epoch 197/200\n",
      "47999/47999 [==============================] - 1s 29us/step - loss: 0.2617 - accuracy: 0.9270 - val_loss: 0.2687 - val_accuracy: 0.9258\n",
      "Epoch 198/200\n",
      "47999/47999 [==============================] - 1s 28us/step - loss: 0.2617 - accuracy: 0.9271 - val_loss: 0.2685 - val_accuracy: 0.9260\n",
      "Epoch 199/200\n",
      "47999/47999 [==============================] - 1s 28us/step - loss: 0.2616 - accuracy: 0.9270 - val_loss: 0.2683 - val_accuracy: 0.9261\n",
      "Epoch 200/200\n",
      "47999/47999 [==============================] - 1s 26us/step - loss: 0.2614 - accuracy: 0.9272 - val_loss: 0.2684 - val_accuracy: 0.9262\n"
     ]
    }
   ],
   "source": [
    "history = model.fit(x__train, y__train, batch_size=BATCH_SIZE, epochs=NB_EPOCH, verbose=VERBOSE, validation_split=VALIDATION_SPLIT)"
   ]
  },
  {
   "cell_type": "markdown",
   "metadata": {},
   "source": [
    "#### Once the model is trained, we can evaluate it on the test set that contains new unseen examples. \n",
    "In this way, we can get the minimal value reached by the objective function and best value reached by the evaluation metric."
   ]
  },
  {
   "cell_type": "code",
   "execution_count": 87,
   "metadata": {},
   "outputs": [
    {
     "name": "stdout",
     "output_type": "stream",
     "text": [
      "9999/9999 [==============================] - 0s 20us/step\n",
      "Test score: 0.271035835871918\n",
      "Test accuracy: 0.9233923554420471\n"
     ]
    }
   ],
   "source": [
    "score = model.evaluate(x__test, y__test, verbose=VERBOSE)\n",
    "print(\"Test score:\", score[0])\n",
    "print('Test accuracy:', score[1])"
   ]
  },
  {
   "cell_type": "code",
   "execution_count": 92,
   "metadata": {},
   "outputs": [
    {
     "name": "stdout",
     "output_type": "stream",
     "text": [
      "dict_keys(['val_loss', 'val_accuracy', 'loss', 'accuracy'])\n"
     ]
    },
    {
     "data": {
      "image/png": "[encoded data removed]",
      "text/plain": [
       "<Figure size 432x288 with 1 Axes>"
      ]
     },
     "metadata": {
      "needs_background": "light"
     },
     "output_type": "display_data"
    }
   ],
   "source": [
    "print(history.history.keys())\n",
    "# \"Loss\"\n",
    "plt.plot(history.history['loss'])\n",
    "plt.plot(history.history['val_loss'])\n",
    "plt.title('model loss')\n",
    "plt.ylabel('loss')\n",
    "plt.xlabel('epoch')\n",
    "plt.legend(['train', 'validation'], loc='upper left')\n",
    "plt.show()\n"
   ]
  },
  {
   "cell_type": "code",
   "execution_count": 107,
   "metadata": {},
   "outputs": [
    {
     "data": {
      "image/png": "[encoded data removed]",
      "text/plain": [
       "<Figure size 432x288 with 2 Axes>"
      ]
     },
     "metadata": {
      "needs_background": "light"
     },
     "output_type": "display_data"
    }
   ],
   "source": [
    "# plotting the metrics\n",
    "fig = plt.figure()\n",
    "plt.subplot(2,1,1)\n",
    "plt.plot(history.history['accuracy'])\n",
    "plt.plot(history.history['val_accuracy'])\n",
    "plt.title('model accuracy')\n",
    "plt.ylabel('accuracy')\n",
    "plt.xlabel('epoch')\n",
    "plt.legend(['train', 'test'], loc='lower right')\n",
    "\n",
    "plt.subplot(2,1,2)\n",
    "plt.plot(history.history['loss'])\n",
    "plt.plot(history.history['val_loss'])\n",
    "plt.title('model loss')\n",
    "plt.ylabel('loss')\n",
    "plt.xlabel('epoch')\n",
    "plt.legend(['train', 'test'], loc='upper right')\n",
    "\n",
    "plt.tight_layout()"
   ]
  },
  {
   "cell_type": "markdown",
   "metadata": {},
   "source": [
    "### We have a baseline accuracy of 92.72% on training, 92.62% on validation, and 92.33% on the test.\n",
    "### This is a good starting point, but we can certainly improve it. Let's see how."
   ]
  },
  {
   "cell_type": "markdown",
   "metadata": {},
   "source": [
    "### So we are adding a second hidden layer, with relu as activation function"
   ]
  },
  {
   "cell_type": "code",
   "execution_count": 94,
   "metadata": {},
   "outputs": [
    {
     "name": "stdout",
     "output_type": "stream",
     "text": [
      "Model: \"sequential_8\"\n",
      "_________________________________________________________________\n",
      "Layer (type)                 Output Shape              Param #   \n",
      "=================================================================\n",
      "dense_9 (Dense)              (None, 128)               100480    \n",
      "_________________________________________________________________\n",
      "activation_9 (Activation)    (None, 128)               0         \n",
      "_________________________________________________________________\n",
      "dense_10 (Dense)             (None, 10)                1290      \n",
      "_________________________________________________________________\n",
      "activation_10 (Activation)   (None, 10)                0         \n",
      "=================================================================\n",
      "Total params: 101,770\n",
      "Trainable params: 101,770\n",
      "Non-trainable params: 0\n",
      "_________________________________________________________________\n"
     ]
    }
   ],
   "source": [
    "# 10 outputs\n",
    "# final stage is softmax\n",
    "model1 = Sequential()\n",
    "model1.add(Dense(N_HIDDEN, input_shape=(RESHAPED,)))\n",
    "model1.add(Activation('relu'))\n",
    "model1.add(Dense(NB_CLASSES, input_shape=(N_HIDDEN,)))\n",
    "model1.add(Activation('softmax'))\n",
    "model1.summary()"
   ]
  },
  {
   "cell_type": "markdown",
   "metadata": {},
   "source": [
    "### That's how our model is look like.\n",
    "### Let compile our model using SGD as optimizer."
   ]
  },
  {
   "cell_type": "code",
   "execution_count": 95,
   "metadata": {},
   "outputs": [],
   "source": [
    "model1.compile(loss='categorical_crossentropy', optimizer=OPTIMIZER, metrics=['accuracy'])"
   ]
  },
  {
   "cell_type": "markdown",
   "metadata": {},
   "source": [
    "### Let's fit the train data to the model"
   ]
  },
  {
   "cell_type": "code",
   "execution_count": 96,
   "metadata": {},
   "outputs": [
    {
     "name": "stdout",
     "output_type": "stream",
     "text": [
      "Train on 47999 samples, validate on 12000 samples\n",
      "Epoch 1/200\n",
      "47999/47999 [==============================] - 2s 48us/step - loss: 0.9315 - accuracy: 0.7723 - val_loss: 0.4904 - val_accuracy: 0.8801\n",
      "Epoch 2/200\n",
      "47999/47999 [==============================] - 2s 38us/step - loss: 0.4566 - accuracy: 0.8814 - val_loss: 0.3777 - val_accuracy: 0.8994\n",
      "Epoch 3/200\n",
      "47999/47999 [==============================] - 2s 37us/step - loss: 0.3823 - accuracy: 0.8957 - val_loss: 0.3371 - val_accuracy: 0.9080\n",
      "Epoch 4/200\n",
      "47999/47999 [==============================] - 2s 38us/step - loss: 0.3464 - accuracy: 0.9036 - val_loss: 0.3129 - val_accuracy: 0.9132\n",
      "Epoch 5/200\n",
      "47999/47999 [==============================] - 2s 39us/step - loss: 0.3232 - accuracy: 0.9094 - val_loss: 0.2959 - val_accuracy: 0.9182\n",
      "Epoch 6/200\n",
      "47999/47999 [==============================] - 2s 40us/step - loss: 0.3056 - accuracy: 0.9144 - val_loss: 0.2816 - val_accuracy: 0.9222\n",
      "Epoch 7/200\n",
      "47999/47999 [==============================] - 2s 38us/step - loss: 0.2907 - accuracy: 0.9181 - val_loss: 0.2702 - val_accuracy: 0.9259\n",
      "Epoch 8/200\n",
      "47999/47999 [==============================] - 2s 38us/step - loss: 0.2781 - accuracy: 0.9222 - val_loss: 0.2620 - val_accuracy: 0.9280\n",
      "Epoch 9/200\n",
      "47999/47999 [==============================] - 2s 39us/step - loss: 0.2667 - accuracy: 0.9259 - val_loss: 0.2508 - val_accuracy: 0.9325\n",
      "Epoch 10/200\n",
      "47999/47999 [==============================] - 2s 38us/step - loss: 0.2567 - accuracy: 0.9284 - val_loss: 0.2429 - val_accuracy: 0.9334\n",
      "Epoch 11/200\n",
      "47999/47999 [==============================] - 2s 37us/step - loss: 0.2474 - accuracy: 0.9315 - val_loss: 0.2365 - val_accuracy: 0.9344\n",
      "Epoch 12/200\n",
      "47999/47999 [==============================] - 2s 44us/step - loss: 0.2389 - accuracy: 0.9336 - val_loss: 0.2285 - val_accuracy: 0.9361\n",
      "Epoch 13/200\n",
      "47999/47999 [==============================] - 2s 41us/step - loss: 0.2310 - accuracy: 0.9359 - val_loss: 0.2234 - val_accuracy: 0.9384\n",
      "Epoch 14/200\n",
      "47999/47999 [==============================] - 2s 41us/step - loss: 0.2234 - accuracy: 0.9377 - val_loss: 0.2159 - val_accuracy: 0.9411\n",
      "Epoch 15/200\n",
      "47999/47999 [==============================] - 2s 38us/step - loss: 0.2165 - accuracy: 0.9392 - val_loss: 0.2104 - val_accuracy: 0.9420\n",
      "Epoch 16/200\n",
      "47999/47999 [==============================] - 2s 38us/step - loss: 0.2099 - accuracy: 0.9414 - val_loss: 0.2064 - val_accuracy: 0.9437\n",
      "Epoch 17/200\n",
      "47999/47999 [==============================] - 2s 40us/step - loss: 0.2037 - accuracy: 0.9432 - val_loss: 0.2004 - val_accuracy: 0.9457\n",
      "Epoch 18/200\n",
      "47999/47999 [==============================] - 2s 42us/step - loss: 0.1980 - accuracy: 0.9452 - val_loss: 0.1960 - val_accuracy: 0.9471\n",
      "Epoch 19/200\n",
      "47999/47999 [==============================] - 2s 40us/step - loss: 0.1925 - accuracy: 0.9464 - val_loss: 0.1920 - val_accuracy: 0.9476\n",
      "Epoch 20/200\n",
      "47999/47999 [==============================] - 2s 43us/step - loss: 0.1873 - accuracy: 0.9476 - val_loss: 0.1885 - val_accuracy: 0.9487\n",
      "Epoch 21/200\n",
      "47999/47999 [==============================] - 2s 38us/step - loss: 0.1822 - accuracy: 0.9490 - val_loss: 0.1837 - val_accuracy: 0.9501\n",
      "Epoch 22/200\n",
      "47999/47999 [==============================] - 2s 39us/step - loss: 0.1777 - accuracy: 0.9504 - val_loss: 0.1795 - val_accuracy: 0.9511\n",
      "Epoch 23/200\n",
      "47999/47999 [==============================] - 2s 43us/step - loss: 0.1732 - accuracy: 0.9516 - val_loss: 0.1765 - val_accuracy: 0.9523\n",
      "Epoch 24/200\n",
      "47999/47999 [==============================] - 2s 46us/step - loss: 0.1688 - accuracy: 0.9530 - val_loss: 0.1730 - val_accuracy: 0.9528\n",
      "Epoch 25/200\n",
      "47999/47999 [==============================] - 2s 35us/step - loss: 0.1648 - accuracy: 0.9542 - val_loss: 0.1697 - val_accuracy: 0.9538\n",
      "Epoch 26/200\n",
      "47999/47999 [==============================] - 2s 32us/step - loss: 0.1609 - accuracy: 0.9552 - val_loss: 0.1663 - val_accuracy: 0.9547\n",
      "Epoch 27/200\n",
      "47999/47999 [==============================] - 2s 33us/step - loss: 0.1571 - accuracy: 0.9561 - val_loss: 0.1640 - val_accuracy: 0.9553\n",
      "Epoch 28/200\n",
      "47999/47999 [==============================] - 2s 33us/step - loss: 0.1537 - accuracy: 0.9569 - val_loss: 0.1605 - val_accuracy: 0.9561\n",
      "Epoch 29/200\n",
      "47999/47999 [==============================] - 2s 35us/step - loss: 0.1503 - accuracy: 0.9576 - val_loss: 0.1578 - val_accuracy: 0.9572\n",
      "Epoch 30/200\n",
      "47999/47999 [==============================] - 2s 33us/step - loss: 0.1469 - accuracy: 0.9592 - val_loss: 0.1551 - val_accuracy: 0.9587\n",
      "Epoch 31/200\n",
      "47999/47999 [==============================] - 2s 32us/step - loss: 0.1439 - accuracy: 0.9599 - val_loss: 0.1536 - val_accuracy: 0.9586\n",
      "Epoch 32/200\n",
      "47999/47999 [==============================] - 2s 33us/step - loss: 0.1408 - accuracy: 0.9609 - val_loss: 0.1511 - val_accuracy: 0.9589\n",
      "Epoch 33/200\n",
      "47999/47999 [==============================] - 2s 33us/step - loss: 0.1380 - accuracy: 0.9614 - val_loss: 0.1490 - val_accuracy: 0.9591\n",
      "Epoch 34/200\n",
      "47999/47999 [==============================] - 2s 33us/step - loss: 0.1352 - accuracy: 0.9623 - val_loss: 0.1468 - val_accuracy: 0.9594\n",
      "Epoch 35/200\n",
      "47999/47999 [==============================] - 2s 33us/step - loss: 0.1325 - accuracy: 0.9632 - val_loss: 0.1445 - val_accuracy: 0.9601\n",
      "Epoch 36/200\n",
      "47999/47999 [==============================] - 2s 33us/step - loss: 0.1299 - accuracy: 0.9639 - val_loss: 0.1430 - val_accuracy: 0.9601\n",
      "Epoch 37/200\n",
      "47999/47999 [==============================] - 2s 33us/step - loss: 0.1274 - accuracy: 0.9651 - val_loss: 0.1407 - val_accuracy: 0.9611\n",
      "Epoch 38/200\n",
      "47999/47999 [==============================] - 2s 33us/step - loss: 0.1250 - accuracy: 0.9654 - val_loss: 0.1393 - val_accuracy: 0.9613\n",
      "Epoch 39/200\n",
      "47999/47999 [==============================] - 2s 34us/step - loss: 0.1227 - accuracy: 0.9664 - val_loss: 0.1375 - val_accuracy: 0.9616\n",
      "Epoch 40/200\n",
      "47999/47999 [==============================] - 2s 33us/step - loss: 0.1205 - accuracy: 0.9671 - val_loss: 0.1363 - val_accuracy: 0.9617\n",
      "Epoch 41/200\n",
      "47999/47999 [==============================] - 2s 34us/step - loss: 0.1183 - accuracy: 0.9674 - val_loss: 0.1347 - val_accuracy: 0.9629\n",
      "Epoch 42/200\n",
      "47999/47999 [==============================] - 2s 34us/step - loss: 0.1162 - accuracy: 0.9683 - val_loss: 0.1326 - val_accuracy: 0.9623\n",
      "Epoch 43/200\n",
      "47999/47999 [==============================] - 2s 33us/step - loss: 0.1141 - accuracy: 0.9686 - val_loss: 0.1318 - val_accuracy: 0.9644\n",
      "Epoch 44/200\n",
      "47999/47999 [==============================] - 2s 35us/step - loss: 0.1121 - accuracy: 0.9694 - val_loss: 0.1302 - val_accuracy: 0.9629\n",
      "Epoch 45/200\n",
      "47999/47999 [==============================] - 2s 36us/step - loss: 0.1103 - accuracy: 0.9700 - val_loss: 0.1286 - val_accuracy: 0.9639\n",
      "Epoch 46/200\n",
      "47999/47999 [==============================] - 2s 49us/step - loss: 0.1086 - accuracy: 0.9703 - val_loss: 0.1278 - val_accuracy: 0.9640\n",
      "Epoch 47/200\n",
      "47999/47999 [==============================] - 3s 57us/step - loss: 0.1066 - accuracy: 0.9707 - val_loss: 0.1259 - val_accuracy: 0.9643\n",
      "Epoch 48/200\n",
      "47999/47999 [==============================] - 2s 51us/step - loss: 0.1050 - accuracy: 0.9715 - val_loss: 0.1255 - val_accuracy: 0.9654\n",
      "Epoch 49/200\n",
      "47999/47999 [==============================] - 3s 57us/step - loss: 0.1034 - accuracy: 0.9719 - val_loss: 0.1241 - val_accuracy: 0.9649\n",
      "Epoch 50/200\n",
      "47999/47999 [==============================] - 2s 47us/step - loss: 0.1017 - accuracy: 0.9722 - val_loss: 0.1228 - val_accuracy: 0.9653\n",
      "Epoch 51/200\n",
      "47999/47999 [==============================] - 2s 35us/step - loss: 0.1002 - accuracy: 0.9728 - val_loss: 0.1219 - val_accuracy: 0.9653\n",
      "Epoch 52/200\n",
      "47999/47999 [==============================] - 2s 34us/step - loss: 0.0985 - accuracy: 0.9731 - val_loss: 0.1209 - val_accuracy: 0.9651\n",
      "Epoch 53/200\n",
      "47999/47999 [==============================] - 2s 33us/step - loss: 0.0970 - accuracy: 0.9736 - val_loss: 0.1200 - val_accuracy: 0.9662\n",
      "Epoch 54/200\n",
      "47999/47999 [==============================] - 2s 35us/step - loss: 0.0957 - accuracy: 0.9738 - val_loss: 0.1186 - val_accuracy: 0.9664\n",
      "Epoch 55/200\n",
      "47999/47999 [==============================] - 2s 47us/step - loss: 0.0941 - accuracy: 0.9743 - val_loss: 0.1175 - val_accuracy: 0.9663\n",
      "Epoch 56/200\n",
      "47999/47999 [==============================] - 2s 33us/step - loss: 0.0929 - accuracy: 0.9746 - val_loss: 0.1169 - val_accuracy: 0.9670\n",
      "Epoch 57/200\n",
      "47999/47999 [==============================] - 2s 33us/step - loss: 0.0915 - accuracy: 0.9752 - val_loss: 0.1156 - val_accuracy: 0.9668\n",
      "Epoch 58/200\n",
      "47999/47999 [==============================] - 2s 33us/step - loss: 0.0902 - accuracy: 0.9756 - val_loss: 0.1153 - val_accuracy: 0.9663\n",
      "Epoch 59/200\n",
      "47999/47999 [==============================] - 2s 45us/step - loss: 0.0889 - accuracy: 0.9759 - val_loss: 0.1138 - val_accuracy: 0.9672\n",
      "Epoch 60/200\n",
      "47999/47999 [==============================] - 2s 34us/step - loss: 0.0876 - accuracy: 0.9765 - val_loss: 0.1130 - val_accuracy: 0.9678\n",
      "Epoch 61/200\n",
      "47999/47999 [==============================] - 2s 37us/step - loss: 0.0863 - accuracy: 0.9767 - val_loss: 0.1122 - val_accuracy: 0.9670\n",
      "Epoch 62/200\n",
      "47999/47999 [==============================] - 2s 36us/step - loss: 0.0853 - accuracy: 0.9769 - val_loss: 0.1118 - val_accuracy: 0.9674\n",
      "Epoch 63/200\n",
      "47999/47999 [==============================] - 2s 34us/step - loss: 0.0841 - accuracy: 0.9775 - val_loss: 0.1105 - val_accuracy: 0.9685\n",
      "Epoch 64/200\n",
      "47999/47999 [==============================] - 2s 33us/step - loss: 0.0829 - accuracy: 0.9779 - val_loss: 0.1100 - val_accuracy: 0.9682\n",
      "Epoch 65/200\n",
      "47999/47999 [==============================] - 2s 35us/step - loss: 0.0818 - accuracy: 0.9778 - val_loss: 0.1094 - val_accuracy: 0.9680\n",
      "Epoch 66/200\n",
      "47999/47999 [==============================] - 2s 35us/step - loss: 0.0808 - accuracy: 0.9781 - val_loss: 0.1085 - val_accuracy: 0.9681\n",
      "Epoch 67/200\n",
      "47999/47999 [==============================] - 2s 33us/step - loss: 0.0797 - accuracy: 0.9785 - val_loss: 0.1076 - val_accuracy: 0.9688\n",
      "Epoch 68/200\n",
      "47999/47999 [==============================] - 2s 32us/step - loss: 0.0787 - accuracy: 0.9793 - val_loss: 0.1076 - val_accuracy: 0.9690\n",
      "Epoch 69/200\n",
      "47999/47999 [==============================] - 2s 33us/step - loss: 0.0776 - accuracy: 0.9794 - val_loss: 0.1064 - val_accuracy: 0.9690\n",
      "Epoch 70/200\n",
      "47999/47999 [==============================] - 2s 36us/step - loss: 0.0765 - accuracy: 0.9793 - val_loss: 0.1066 - val_accuracy: 0.9698\n",
      "Epoch 71/200\n",
      "47999/47999 [==============================] - 2s 35us/step - loss: 0.0756 - accuracy: 0.9800 - val_loss: 0.1048 - val_accuracy: 0.9697\n",
      "Epoch 72/200\n",
      "47999/47999 [==============================] - 2s 33us/step - loss: 0.0747 - accuracy: 0.9806 - val_loss: 0.1051 - val_accuracy: 0.9697\n",
      "Epoch 73/200\n",
      "47999/47999 [==============================] - 2s 33us/step - loss: 0.0737 - accuracy: 0.9806 - val_loss: 0.1045 - val_accuracy: 0.9697\n",
      "Epoch 74/200\n",
      "47999/47999 [==============================] - 2s 34us/step - loss: 0.0729 - accuracy: 0.9808 - val_loss: 0.1041 - val_accuracy: 0.9703\n",
      "Epoch 75/200\n",
      "47999/47999 [==============================] - 2s 33us/step - loss: 0.0720 - accuracy: 0.9812 - val_loss: 0.1034 - val_accuracy: 0.9703\n",
      "Epoch 76/200\n",
      "47999/47999 [==============================] - 2s 33us/step - loss: 0.0711 - accuracy: 0.9812 - val_loss: 0.1027 - val_accuracy: 0.9695\n",
      "Epoch 77/200\n",
      "47999/47999 [==============================] - 2s 36us/step - loss: 0.0701 - accuracy: 0.9815 - val_loss: 0.1024 - val_accuracy: 0.9707\n",
      "Epoch 78/200\n",
      "47999/47999 [==============================] - 2s 38us/step - loss: 0.0693 - accuracy: 0.9814 - val_loss: 0.1020 - val_accuracy: 0.9702\n",
      "Epoch 79/200\n",
      "47999/47999 [==============================] - 2s 44us/step - loss: 0.0685 - accuracy: 0.9819 - val_loss: 0.1011 - val_accuracy: 0.9702\n",
      "Epoch 80/200\n",
      "47999/47999 [==============================] - 2s 39us/step - loss: 0.0677 - accuracy: 0.9823 - val_loss: 0.1008 - val_accuracy: 0.9702\n",
      "Epoch 81/200\n",
      "47999/47999 [==============================] - 2s 38us/step - loss: 0.0669 - accuracy: 0.9825 - val_loss: 0.1007 - val_accuracy: 0.9703\n",
      "Epoch 82/200\n",
      "47999/47999 [==============================] - 2s 38us/step - loss: 0.0661 - accuracy: 0.9827 - val_loss: 0.1003 - val_accuracy: 0.9707\n",
      "Epoch 83/200\n",
      "47999/47999 [==============================] - 2s 37us/step - loss: 0.0654 - accuracy: 0.9832 - val_loss: 0.0994 - val_accuracy: 0.9710\n",
      "Epoch 84/200\n",
      "47999/47999 [==============================] - 2s 37us/step - loss: 0.0646 - accuracy: 0.9833 - val_loss: 0.0989 - val_accuracy: 0.9712\n",
      "Epoch 85/200\n",
      "47999/47999 [==============================] - 2s 37us/step - loss: 0.0639 - accuracy: 0.9834 - val_loss: 0.0989 - val_accuracy: 0.9707\n",
      "Epoch 86/200\n",
      "47999/47999 [==============================] - 2s 36us/step - loss: 0.0632 - accuracy: 0.9836 - val_loss: 0.0985 - val_accuracy: 0.9709\n",
      "Epoch 87/200\n",
      "47999/47999 [==============================] - 2s 38us/step - loss: 0.0624 - accuracy: 0.9837 - val_loss: 0.0983 - val_accuracy: 0.9713\n",
      "Epoch 88/200\n",
      "47999/47999 [==============================] - 2s 37us/step - loss: 0.0618 - accuracy: 0.9840 - val_loss: 0.0976 - val_accuracy: 0.9716\n",
      "Epoch 89/200\n",
      "47999/47999 [==============================] - 2s 38us/step - loss: 0.0610 - accuracy: 0.9842 - val_loss: 0.0975 - val_accuracy: 0.9716\n",
      "Epoch 90/200\n",
      "47999/47999 [==============================] - 2s 36us/step - loss: 0.0604 - accuracy: 0.9845 - val_loss: 0.0966 - val_accuracy: 0.9724\n",
      "Epoch 91/200\n",
      "47999/47999 [==============================] - 2s 37us/step - loss: 0.0597 - accuracy: 0.9845 - val_loss: 0.0965 - val_accuracy: 0.9717\n",
      "Epoch 92/200\n",
      "47999/47999 [==============================] - 2s 36us/step - loss: 0.0590 - accuracy: 0.9849 - val_loss: 0.0964 - val_accuracy: 0.9718\n",
      "Epoch 93/200\n",
      "47999/47999 [==============================] - 2s 38us/step - loss: 0.0585 - accuracy: 0.9849 - val_loss: 0.0958 - val_accuracy: 0.9717\n",
      "Epoch 94/200\n",
      "47999/47999 [==============================] - 2s 37us/step - loss: 0.0579 - accuracy: 0.9851 - val_loss: 0.0951 - val_accuracy: 0.9715\n",
      "Epoch 95/200\n",
      "47999/47999 [==============================] - 2s 37us/step - loss: 0.0572 - accuracy: 0.9852 - val_loss: 0.0950 - val_accuracy: 0.9721\n",
      "Epoch 96/200\n",
      "47999/47999 [==============================] - 2s 36us/step - loss: 0.0567 - accuracy: 0.9857 - val_loss: 0.0947 - val_accuracy: 0.9718\n",
      "Epoch 97/200\n",
      "47999/47999 [==============================] - 2s 36us/step - loss: 0.0560 - accuracy: 0.9857 - val_loss: 0.0945 - val_accuracy: 0.9720\n",
      "Epoch 98/200\n",
      "47999/47999 [==============================] - 2s 37us/step - loss: 0.0554 - accuracy: 0.9862 - val_loss: 0.0947 - val_accuracy: 0.9720\n",
      "Epoch 99/200\n",
      "47999/47999 [==============================] - 2s 36us/step - loss: 0.0549 - accuracy: 0.9860 - val_loss: 0.0937 - val_accuracy: 0.9722\n",
      "Epoch 100/200\n",
      "47999/47999 [==============================] - 2s 36us/step - loss: 0.0544 - accuracy: 0.9862 - val_loss: 0.0934 - val_accuracy: 0.9722\n",
      "Epoch 101/200\n",
      "47999/47999 [==============================] - 2s 35us/step - loss: 0.0538 - accuracy: 0.9863 - val_loss: 0.0933 - val_accuracy: 0.9721\n",
      "Epoch 102/200\n",
      "47999/47999 [==============================] - 2s 35us/step - loss: 0.0533 - accuracy: 0.9868 - val_loss: 0.0930 - val_accuracy: 0.9724\n",
      "Epoch 103/200\n",
      "47999/47999 [==============================] - 2s 36us/step - loss: 0.0526 - accuracy: 0.9867 - val_loss: 0.0931 - val_accuracy: 0.9721\n",
      "Epoch 104/200\n",
      "47999/47999 [==============================] - 2s 36us/step - loss: 0.0522 - accuracy: 0.9868 - val_loss: 0.0926 - val_accuracy: 0.9722\n",
      "Epoch 105/200\n",
      "47999/47999 [==============================] - 2s 36us/step - loss: 0.0516 - accuracy: 0.9871 - val_loss: 0.0924 - val_accuracy: 0.9718\n",
      "Epoch 106/200\n",
      "47999/47999 [==============================] - 2s 36us/step - loss: 0.0512 - accuracy: 0.9872 - val_loss: 0.0924 - val_accuracy: 0.9724\n",
      "Epoch 107/200\n",
      "47999/47999 [==============================] - 2s 36us/step - loss: 0.0506 - accuracy: 0.9874 - val_loss: 0.0917 - val_accuracy: 0.9730\n",
      "Epoch 108/200\n",
      "47999/47999 [==============================] - 2s 35us/step - loss: 0.0501 - accuracy: 0.9876 - val_loss: 0.0914 - val_accuracy: 0.9728\n",
      "Epoch 109/200\n",
      "47999/47999 [==============================] - 2s 36us/step - loss: 0.0496 - accuracy: 0.9878 - val_loss: 0.0912 - val_accuracy: 0.9728\n",
      "Epoch 110/200\n",
      "47999/47999 [==============================] - 2s 35us/step - loss: 0.0491 - accuracy: 0.9878 - val_loss: 0.0913 - val_accuracy: 0.9726\n",
      "Epoch 111/200\n",
      "47999/47999 [==============================] - 2s 35us/step - loss: 0.0487 - accuracy: 0.9881 - val_loss: 0.0910 - val_accuracy: 0.9729\n",
      "Epoch 112/200\n",
      "47999/47999 [==============================] - 2s 35us/step - loss: 0.0481 - accuracy: 0.9883 - val_loss: 0.0907 - val_accuracy: 0.9734\n",
      "Epoch 113/200\n",
      "47999/47999 [==============================] - 2s 35us/step - loss: 0.0476 - accuracy: 0.9885 - val_loss: 0.0902 - val_accuracy: 0.9732\n",
      "Epoch 114/200\n",
      "47999/47999 [==============================] - 2s 35us/step - loss: 0.0472 - accuracy: 0.9887 - val_loss: 0.0904 - val_accuracy: 0.9732\n",
      "Epoch 115/200\n",
      "47999/47999 [==============================] - 2s 36us/step - loss: 0.0468 - accuracy: 0.9886 - val_loss: 0.0906 - val_accuracy: 0.9729\n",
      "Epoch 116/200\n",
      "47999/47999 [==============================] - 2s 34us/step - loss: 0.0464 - accuracy: 0.9889 - val_loss: 0.0901 - val_accuracy: 0.9732\n",
      "Epoch 117/200\n",
      "47999/47999 [==============================] - 2s 34us/step - loss: 0.0459 - accuracy: 0.9890 - val_loss: 0.0897 - val_accuracy: 0.9735\n",
      "Epoch 118/200\n",
      "47999/47999 [==============================] - 2s 35us/step - loss: 0.0455 - accuracy: 0.9892 - val_loss: 0.0897 - val_accuracy: 0.9729\n",
      "Epoch 119/200\n",
      "47999/47999 [==============================] - 2s 35us/step - loss: 0.0450 - accuracy: 0.9895 - val_loss: 0.0894 - val_accuracy: 0.9734\n",
      "Epoch 120/200\n",
      "47999/47999 [==============================] - 2s 35us/step - loss: 0.0446 - accuracy: 0.9894 - val_loss: 0.0896 - val_accuracy: 0.9734\n",
      "Epoch 121/200\n",
      "47999/47999 [==============================] - 2s 37us/step - loss: 0.0442 - accuracy: 0.9897 - val_loss: 0.0891 - val_accuracy: 0.9734\n",
      "Epoch 122/200\n",
      "47999/47999 [==============================] - 2s 37us/step - loss: 0.0438 - accuracy: 0.9899 - val_loss: 0.0889 - val_accuracy: 0.9734\n",
      "Epoch 123/200\n",
      "47999/47999 [==============================] - 2s 36us/step - loss: 0.0434 - accuracy: 0.9901 - val_loss: 0.0892 - val_accuracy: 0.9722\n",
      "Epoch 124/200\n",
      "47999/47999 [==============================] - 2s 33us/step - loss: 0.0430 - accuracy: 0.9900 - val_loss: 0.0887 - val_accuracy: 0.9734\n",
      "Epoch 125/200\n",
      "47999/47999 [==============================] - 2s 33us/step - loss: 0.0425 - accuracy: 0.9902 - val_loss: 0.0888 - val_accuracy: 0.9736\n",
      "Epoch 126/200\n",
      "47999/47999 [==============================] - 2s 34us/step - loss: 0.0422 - accuracy: 0.9908 - val_loss: 0.0891 - val_accuracy: 0.9723\n",
      "Epoch 127/200\n",
      "47999/47999 [==============================] - 2s 34us/step - loss: 0.0418 - accuracy: 0.9906 - val_loss: 0.0884 - val_accuracy: 0.9737\n",
      "Epoch 128/200\n",
      "47999/47999 [==============================] - 2s 34us/step - loss: 0.0415 - accuracy: 0.9907 - val_loss: 0.0879 - val_accuracy: 0.9735\n",
      "Epoch 129/200\n",
      "47999/47999 [==============================] - 2s 34us/step - loss: 0.0410 - accuracy: 0.9910 - val_loss: 0.0882 - val_accuracy: 0.9734\n",
      "Epoch 130/200\n",
      "47999/47999 [==============================] - 2s 33us/step - loss: 0.0406 - accuracy: 0.9908 - val_loss: 0.0878 - val_accuracy: 0.9738\n",
      "Epoch 131/200\n",
      "47999/47999 [==============================] - 2s 33us/step - loss: 0.0403 - accuracy: 0.9910 - val_loss: 0.0877 - val_accuracy: 0.9743\n",
      "Epoch 132/200\n",
      "47999/47999 [==============================] - 2s 34us/step - loss: 0.0400 - accuracy: 0.9912 - val_loss: 0.0875 - val_accuracy: 0.9739\n",
      "Epoch 133/200\n",
      "47999/47999 [==============================] - 2s 34us/step - loss: 0.0396 - accuracy: 0.9913 - val_loss: 0.0878 - val_accuracy: 0.9739\n",
      "Epoch 134/200\n",
      "47999/47999 [==============================] - 2s 33us/step - loss: 0.0393 - accuracy: 0.9914 - val_loss: 0.0871 - val_accuracy: 0.9745\n",
      "Epoch 135/200\n",
      "47999/47999 [==============================] - 2s 33us/step - loss: 0.0388 - accuracy: 0.9916 - val_loss: 0.0877 - val_accuracy: 0.9736\n",
      "Epoch 136/200\n",
      "47999/47999 [==============================] - 2s 34us/step - loss: 0.0385 - accuracy: 0.9915 - val_loss: 0.0872 - val_accuracy: 0.9740\n",
      "Epoch 137/200\n",
      "47999/47999 [==============================] - 2s 34us/step - loss: 0.0382 - accuracy: 0.9916 - val_loss: 0.0874 - val_accuracy: 0.9738\n",
      "Epoch 138/200\n",
      "47999/47999 [==============================] - 2s 34us/step - loss: 0.0378 - accuracy: 0.9917 - val_loss: 0.0869 - val_accuracy: 0.9741\n",
      "Epoch 139/200\n",
      "47999/47999 [==============================] - 2s 34us/step - loss: 0.0375 - accuracy: 0.9918 - val_loss: 0.0868 - val_accuracy: 0.9740\n",
      "Epoch 140/200\n",
      "47999/47999 [==============================] - 2s 34us/step - loss: 0.0371 - accuracy: 0.9919 - val_loss: 0.0868 - val_accuracy: 0.9737\n",
      "Epoch 141/200\n",
      "47999/47999 [==============================] - 2s 34us/step - loss: 0.0368 - accuracy: 0.9919 - val_loss: 0.0863 - val_accuracy: 0.9745\n",
      "Epoch 142/200\n",
      "47999/47999 [==============================] - 2s 33us/step - loss: 0.0365 - accuracy: 0.9921 - val_loss: 0.0868 - val_accuracy: 0.9742\n",
      "Epoch 143/200\n",
      "47999/47999 [==============================] - 2s 32us/step - loss: 0.0362 - accuracy: 0.9921 - val_loss: 0.0867 - val_accuracy: 0.9742\n",
      "Epoch 144/200\n",
      "47999/47999 [==============================] - 2s 34us/step - loss: 0.0359 - accuracy: 0.9922 - val_loss: 0.0865 - val_accuracy: 0.9741\n",
      "Epoch 145/200\n",
      "47999/47999 [==============================] - 2s 34us/step - loss: 0.0356 - accuracy: 0.9923 - val_loss: 0.0865 - val_accuracy: 0.9740\n",
      "Epoch 146/200\n",
      "47999/47999 [==============================] - 2s 34us/step - loss: 0.0353 - accuracy: 0.9927 - val_loss: 0.0864 - val_accuracy: 0.9744\n",
      "Epoch 147/200\n",
      "47999/47999 [==============================] - 2s 34us/step - loss: 0.0350 - accuracy: 0.9926 - val_loss: 0.0863 - val_accuracy: 0.9742\n",
      "Epoch 148/200\n",
      "47999/47999 [==============================] - 2s 33us/step - loss: 0.0347 - accuracy: 0.9925 - val_loss: 0.0861 - val_accuracy: 0.9746\n",
      "Epoch 149/200\n",
      "47999/47999 [==============================] - 2s 34us/step - loss: 0.0344 - accuracy: 0.9929 - val_loss: 0.0860 - val_accuracy: 0.9743\n",
      "Epoch 150/200\n",
      "47999/47999 [==============================] - 2s 34us/step - loss: 0.0342 - accuracy: 0.9928 - val_loss: 0.0859 - val_accuracy: 0.9739\n",
      "Epoch 151/200\n",
      "47999/47999 [==============================] - 2s 33us/step - loss: 0.0338 - accuracy: 0.9931 - val_loss: 0.0858 - val_accuracy: 0.9748\n",
      "Epoch 152/200\n",
      "47999/47999 [==============================] - 2s 35us/step - loss: 0.0336 - accuracy: 0.9930 - val_loss: 0.0855 - val_accuracy: 0.9749\n",
      "Epoch 153/200\n",
      "47999/47999 [==============================] - 2s 33us/step - loss: 0.0333 - accuracy: 0.9932 - val_loss: 0.0862 - val_accuracy: 0.9738\n",
      "Epoch 154/200\n",
      "47999/47999 [==============================] - 2s 33us/step - loss: 0.0330 - accuracy: 0.9931 - val_loss: 0.0857 - val_accuracy: 0.9745\n",
      "Epoch 155/200\n",
      "47999/47999 [==============================] - 2s 32us/step - loss: 0.0327 - accuracy: 0.9933 - val_loss: 0.0860 - val_accuracy: 0.9746\n",
      "Epoch 156/200\n",
      "47999/47999 [==============================] - 2s 32us/step - loss: 0.0324 - accuracy: 0.9933 - val_loss: 0.0858 - val_accuracy: 0.9747\n",
      "Epoch 157/200\n",
      "47999/47999 [==============================] - 2s 32us/step - loss: 0.0322 - accuracy: 0.9935 - val_loss: 0.0852 - val_accuracy: 0.9747\n",
      "Epoch 158/200\n",
      "47999/47999 [==============================] - 2s 33us/step - loss: 0.0319 - accuracy: 0.9934 - val_loss: 0.0854 - val_accuracy: 0.9742\n",
      "Epoch 159/200\n",
      "47999/47999 [==============================] - 2s 32us/step - loss: 0.0316 - accuracy: 0.9937 - val_loss: 0.0851 - val_accuracy: 0.9747\n",
      "Epoch 160/200\n",
      "47999/47999 [==============================] - 2s 33us/step - loss: 0.0314 - accuracy: 0.9939 - val_loss: 0.0853 - val_accuracy: 0.9747\n",
      "Epoch 161/200\n",
      "47999/47999 [==============================] - 2s 32us/step - loss: 0.0311 - accuracy: 0.9937 - val_loss: 0.0851 - val_accuracy: 0.9751\n",
      "Epoch 162/200\n",
      "47999/47999 [==============================] - 2s 33us/step - loss: 0.0309 - accuracy: 0.9940 - val_loss: 0.0850 - val_accuracy: 0.9748\n",
      "Epoch 163/200\n",
      "47999/47999 [==============================] - 2s 33us/step - loss: 0.0306 - accuracy: 0.9939 - val_loss: 0.0849 - val_accuracy: 0.9744\n",
      "Epoch 164/200\n",
      "47999/47999 [==============================] - 2s 33us/step - loss: 0.0304 - accuracy: 0.9941 - val_loss: 0.0854 - val_accuracy: 0.9744\n",
      "Epoch 165/200\n",
      "47999/47999 [==============================] - 2s 33us/step - loss: 0.0301 - accuracy: 0.9942 - val_loss: 0.0854 - val_accuracy: 0.9751\n",
      "Epoch 166/200\n",
      "47999/47999 [==============================] - 2s 33us/step - loss: 0.0299 - accuracy: 0.9942 - val_loss: 0.0850 - val_accuracy: 0.9751\n",
      "Epoch 167/200\n",
      "47999/47999 [==============================] - 2s 32us/step - loss: 0.0296 - accuracy: 0.9943 - val_loss: 0.0852 - val_accuracy: 0.9753\n",
      "Epoch 168/200\n",
      "47999/47999 [==============================] - 2s 33us/step - loss: 0.0294 - accuracy: 0.9944 - val_loss: 0.0849 - val_accuracy: 0.9747\n",
      "Epoch 169/200\n",
      "47999/47999 [==============================] - 2s 32us/step - loss: 0.0292 - accuracy: 0.9944 - val_loss: 0.0846 - val_accuracy: 0.9747\n",
      "Epoch 170/200\n",
      "47999/47999 [==============================] - 2s 32us/step - loss: 0.0289 - accuracy: 0.9945 - val_loss: 0.0845 - val_accuracy: 0.9747\n",
      "Epoch 171/200\n",
      "47999/47999 [==============================] - 2s 35us/step - loss: 0.0287 - accuracy: 0.9944 - val_loss: 0.0847 - val_accuracy: 0.9747\n",
      "Epoch 172/200\n",
      "47999/47999 [==============================] - 2s 32us/step - loss: 0.0285 - accuracy: 0.9945 - val_loss: 0.0849 - val_accuracy: 0.9755\n",
      "Epoch 173/200\n",
      "47999/47999 [==============================] - 2s 33us/step - loss: 0.0283 - accuracy: 0.9946 - val_loss: 0.0845 - val_accuracy: 0.9755\n",
      "Epoch 174/200\n",
      "47999/47999 [==============================] - 2s 33us/step - loss: 0.0280 - accuracy: 0.9949 - val_loss: 0.0846 - val_accuracy: 0.9749\n",
      "Epoch 175/200\n",
      "47999/47999 [==============================] - 2s 33us/step - loss: 0.0278 - accuracy: 0.9949 - val_loss: 0.0844 - val_accuracy: 0.9750\n",
      "Epoch 176/200\n",
      "47999/47999 [==============================] - 2s 32us/step - loss: 0.0276 - accuracy: 0.9949 - val_loss: 0.0846 - val_accuracy: 0.9751\n",
      "Epoch 177/200\n",
      "47999/47999 [==============================] - 2s 32us/step - loss: 0.0273 - accuracy: 0.9950 - val_loss: 0.0845 - val_accuracy: 0.9749\n",
      "Epoch 178/200\n",
      "47999/47999 [==============================] - 2s 33us/step - loss: 0.0272 - accuracy: 0.9951 - val_loss: 0.0846 - val_accuracy: 0.9755\n",
      "Epoch 179/200\n",
      "47999/47999 [==============================] - 2s 31us/step - loss: 0.0270 - accuracy: 0.9951 - val_loss: 0.0850 - val_accuracy: 0.9754\n",
      "Epoch 180/200\n",
      "47999/47999 [==============================] - 2s 32us/step - loss: 0.0267 - accuracy: 0.9952 - val_loss: 0.0844 - val_accuracy: 0.9752\n",
      "Epoch 181/200\n",
      "47999/47999 [==============================] - 2s 33us/step - loss: 0.0266 - accuracy: 0.9953 - val_loss: 0.0841 - val_accuracy: 0.9754\n",
      "Epoch 182/200\n",
      "47999/47999 [==============================] - 2s 33us/step - loss: 0.0263 - accuracy: 0.9953 - val_loss: 0.0843 - val_accuracy: 0.9758\n",
      "Epoch 183/200\n",
      "47999/47999 [==============================] - 2s 33us/step - loss: 0.0262 - accuracy: 0.9951 - val_loss: 0.0844 - val_accuracy: 0.9753\n",
      "Epoch 184/200\n",
      "47999/47999 [==============================] - 2s 32us/step - loss: 0.0259 - accuracy: 0.9954 - val_loss: 0.0838 - val_accuracy: 0.9758\n",
      "Epoch 185/200\n",
      "47999/47999 [==============================] - 2s 33us/step - loss: 0.0257 - accuracy: 0.9957 - val_loss: 0.0841 - val_accuracy: 0.9759\n",
      "Epoch 186/200\n",
      "47999/47999 [==============================] - 2s 33us/step - loss: 0.0255 - accuracy: 0.9956 - val_loss: 0.0841 - val_accuracy: 0.9758\n",
      "Epoch 187/200\n",
      "47999/47999 [==============================] - 2s 34us/step - loss: 0.0253 - accuracy: 0.9957 - val_loss: 0.0841 - val_accuracy: 0.9751\n",
      "Epoch 188/200\n",
      "47999/47999 [==============================] - 2s 33us/step - loss: 0.0252 - accuracy: 0.9956 - val_loss: 0.0838 - val_accuracy: 0.9758\n",
      "Epoch 189/200\n",
      "47999/47999 [==============================] - 2s 33us/step - loss: 0.0249 - accuracy: 0.9957 - val_loss: 0.0843 - val_accuracy: 0.9756\n",
      "Epoch 190/200\n",
      "47999/47999 [==============================] - 2s 34us/step - loss: 0.0248 - accuracy: 0.9958 - val_loss: 0.0842 - val_accuracy: 0.9751\n",
      "Epoch 191/200\n",
      "47999/47999 [==============================] - 2s 33us/step - loss: 0.0246 - accuracy: 0.9959 - val_loss: 0.0838 - val_accuracy: 0.9758\n",
      "Epoch 192/200\n",
      "47999/47999 [==============================] - 2s 34us/step - loss: 0.0244 - accuracy: 0.9959 - val_loss: 0.0842 - val_accuracy: 0.9756\n",
      "Epoch 193/200\n",
      "47999/47999 [==============================] - 2s 32us/step - loss: 0.0242 - accuracy: 0.9959 - val_loss: 0.0839 - val_accuracy: 0.9752\n",
      "Epoch 194/200\n",
      "47999/47999 [==============================] - 2s 32us/step - loss: 0.0241 - accuracy: 0.9959 - val_loss: 0.0839 - val_accuracy: 0.9759\n",
      "Epoch 195/200\n",
      "47999/47999 [==============================] - 2s 33us/step - loss: 0.0239 - accuracy: 0.9962 - val_loss: 0.0839 - val_accuracy: 0.9758\n",
      "Epoch 196/200\n",
      "47999/47999 [==============================] - 2s 32us/step - loss: 0.0237 - accuracy: 0.9961 - val_loss: 0.0839 - val_accuracy: 0.9758\n",
      "Epoch 197/200\n",
      "47999/47999 [==============================] - 2s 34us/step - loss: 0.0235 - accuracy: 0.9963 - val_loss: 0.0841 - val_accuracy: 0.9755\n",
      "Epoch 198/200\n",
      "47999/47999 [==============================] - 2s 32us/step - loss: 0.0234 - accuracy: 0.9962 - val_loss: 0.0842 - val_accuracy: 0.9752\n",
      "Epoch 199/200\n",
      "47999/47999 [==============================] - 2s 33us/step - loss: 0.0232 - accuracy: 0.9963 - val_loss: 0.0838 - val_accuracy: 0.9750\n",
      "Epoch 200/200\n",
      "47999/47999 [==============================] - 1s 30us/step - loss: 0.0230 - accuracy: 0.9963 - val_loss: 0.0841 - val_accuracy: 0.9758\n"
     ]
    }
   ],
   "source": [
    "history_ = model1.fit(x__train, y__train, batch_size=BATCH_SIZE, epochs=NB_EPOCH, verbose=VERBOSE, validation_split=VALIDATION_SPLIT)"
   ]
  },
  {
   "cell_type": "markdown",
   "metadata": {},
   "source": [
    "## Evaluate the model"
   ]
  },
  {
   "cell_type": "code",
   "execution_count": 97,
   "metadata": {},
   "outputs": [
    {
     "name": "stdout",
     "output_type": "stream",
     "text": [
      "9999/9999 [==============================] - 0s 24us/step\n",
      "Test score: 0.07322799390801779\n",
      "Test accuracy: 0.9768977165222168\n"
     ]
    }
   ],
   "source": [
    "score = model1.evaluate(x__test, y__test, verbose=VERBOSE)\n",
    "print(\"Test score:\", score[0])\n",
    "print('Test accuracy:', score[1])"
   ]
  },
  {
   "cell_type": "markdown",
   "metadata": {},
   "source": [
    "### Let's plot the history of the loss and accuracy for train and validation"
   ]
  },
  {
   "cell_type": "code",
   "execution_count": 172,
   "metadata": {},
   "outputs": [
    {
     "name": "stdout",
     "output_type": "stream",
     "text": [
      "dict_keys(['val_loss', 'val_accuracy', 'loss', 'accuracy'])\n"
     ]
    },
    {
     "data": {
      "image/png": "[encoded data removed]",
      "text/plain": [
       "<Figure size 504x1008 with 1 Axes>"
      ]
     },
     "metadata": {
      "needs_background": "light"
     },
     "output_type": "display_data"
    },
    {
     "data": {
      "image/png": "[encoded data removed]",
      "text/plain": [
       "<Figure size 504x1008 with 1 Axes>"
      ]
     },
     "metadata": {
      "needs_background": "light"
     },
     "output_type": "display_data"
    }
   ],
   "source": [
    "fig = plt.figure()\n",
    "plt.subplot(2,1,1)\n",
    "print(history_.history.keys())\n",
    "# \"Loss\"\n",
    "plt.plot(history_.history['loss'])\n",
    "plt.plot(history_.history['val_loss'])\n",
    "plt.title('model loss')\n",
    "plt.ylabel('loss')\n",
    "plt.xlabel('epoch')\n",
    "plt.legend(['train', 'validation'], loc='upper left')\n",
    "plt.show()\n",
    "\n",
    "\n",
    "plt.subplot(2,1,2)\n",
    "#print(history_.history.keys())\n",
    "# \"accuracy\"\n",
    "plt.plot(history_.history['accuracy'])\n",
    "plt.plot(history_.history['val_accuracy'])\n",
    "plt.title('model accuracy')\n",
    "plt.ylabel('accuracy')\n",
    "plt.xlabel('epoch')\n",
    "plt.legend(['train', 'validation'], loc='upper left')\n",
    "plt.show()\n"
   ]
  },
  {
   "cell_type": "markdown",
   "metadata": {},
   "source": [
    "### Let's plot the history of the loss and accuracy for train and test."
   ]
  },
  {
   "cell_type": "code",
   "execution_count": 106,
   "metadata": {},
   "outputs": [
    {
     "data": {
      "image/png": "[encoded data removed]",
      "text/plain": [
       "<Figure size 432x288 with 2 Axes>"
      ]
     },
     "metadata": {
      "needs_background": "light"
     },
     "output_type": "display_data"
    }
   ],
   "source": [
    "# saving the model\n",
    "# save_dir = \"/results/\"\n",
    "# model_name = 'keras_mnist.h5'\n",
    "# model_path = os.path.join(save_dir, model_name)\n",
    "# model.save(model_path)\n",
    "# print('Saved trained model at %s ' % model_path)\n",
    "\n",
    "# plotting the metrics\n",
    "fig = plt.figure()\n",
    "plt.subplot(2,1,1)\n",
    "plt.plot(history_.history['accuracy'])\n",
    "plt.plot(history_.history['val_accuracy'])\n",
    "plt.title('model accuracy')\n",
    "plt.ylabel('accuracy')\n",
    "plt.xlabel('epoch')\n",
    "plt.legend(['train', 'test'], loc='lower right')\n",
    "\n",
    "plt.subplot(2,1,2)\n",
    "plt.plot(history_.history['loss'])\n",
    "plt.plot(history_.history['val_loss'])\n",
    "plt.title('model loss')\n",
    "plt.ylabel('loss')\n",
    "plt.xlabel('epoch')\n",
    "plt.legend(['train', 'test'], loc='upper right')\n",
    "\n",
    "plt.tight_layout()"
   ]
  },
  {
   "cell_type": "code",
   "execution_count": 132,
   "metadata": {},
   "outputs": [
    {
     "data": {
      "text/plain": [
       "array([2, 1, 0, ..., 4, 5, 6])"
      ]
     },
     "execution_count": 132,
     "metadata": {},
     "output_type": "execute_result"
    }
   ],
   "source": [
    "predictions = predicted_classes = model1.predict_classes(x__test)\n",
    "\n",
    "predictions\n"
   ]
  },
  {
   "cell_type": "code",
   "execution_count": 150,
   "metadata": {},
   "outputs": [],
   "source": [
    "## The accuracy"
   ]
  },
  {
   "cell_type": "code",
   "execution_count": 151,
   "metadata": {},
   "outputs": [
    {
     "data": {
      "text/plain": [
       "0.976897689768977"
      ]
     },
     "execution_count": 151,
     "metadata": {},
     "output_type": "execute_result"
    }
   ],
   "source": [
    "score = accuracy_score(y__test, predictions)\n",
    "score"
   ]
  },
  {
   "cell_type": "markdown",
   "metadata": {},
   "source": [
    "We can see that the model perform better. By adding two hidden layers, we reached 99.60% on the training set, 97.51% on validation, and 97.63% on the test.\n",
    "\n",
    "If you want, you can play by adding more layers and see what could happen. \n",
    "\n",
    "## Thank you! See you for the next model with EMNIST data"
   ]
  },
  {
   "cell_type": "markdown",
   "metadata": {},
   "source": [
    "# EMNIST"
   ]
  },
  {
   "cell_type": "code",
   "execution_count": 156,
   "metadata": {},
   "outputs": [],
   "source": [
    "emnist_train =pd.read_csv(\"emnist-balanced-train.csv\")\n",
    "emnist_test = pd.read_csv(\"emnist-balanced-test.csv\")"
   ]
  },
  {
   "cell_type": "code",
   "execution_count": 157,
   "metadata": {},
   "outputs": [
    {
     "data": {
      "text/html": [
       "<div>\n",
       "<style scoped>\n",
       "    .dataframe tbody tr th:only-of-type {\n",
       "        vertical-align: middle;\n",
       "    }\n",
       "\n",
       "    .dataframe tbody tr th {\n",
       "        vertical-align: top;\n",
       "    }\n",
       "\n",
       "    .dataframe thead th {\n",
       "        text-align: right;\n",
       "    }\n",
       "</style>\n",
       "<table border=\"1\" class=\"dataframe\">\n",
       "  <thead>\n",
       "    <tr style=\"text-align: right;\">\n",
       "      <th></th>\n",
       "      <th>45</th>\n",
       "      <th>0</th>\n",
       "      <th>0.1</th>\n",
       "      <th>0.2</th>\n",
       "      <th>0.3</th>\n",
       "      <th>0.4</th>\n",
       "      <th>0.5</th>\n",
       "      <th>0.6</th>\n",
       "      <th>0.7</th>\n",
       "      <th>0.8</th>\n",
       "      <th>...</th>\n",
       "      <th>0.524</th>\n",
       "      <th>0.525</th>\n",
       "      <th>0.526</th>\n",
       "      <th>0.527</th>\n",
       "      <th>0.528</th>\n",
       "      <th>0.529</th>\n",
       "      <th>0.530</th>\n",
       "      <th>0.531</th>\n",
       "      <th>0.532</th>\n",
       "      <th>0.533</th>\n",
       "    </tr>\n",
       "  </thead>\n",
       "  <tbody>\n",
       "    <tr>\n",
       "      <th>0</th>\n",
       "      <td>36</td>\n",
       "      <td>0</td>\n",
       "      <td>0</td>\n",
       "      <td>0</td>\n",
       "      <td>0</td>\n",
       "      <td>0</td>\n",
       "      <td>0</td>\n",
       "      <td>0</td>\n",
       "      <td>0</td>\n",
       "      <td>0</td>\n",
       "      <td>...</td>\n",
       "      <td>0</td>\n",
       "      <td>0</td>\n",
       "      <td>0</td>\n",
       "      <td>0</td>\n",
       "      <td>0</td>\n",
       "      <td>0</td>\n",
       "      <td>0</td>\n",
       "      <td>0</td>\n",
       "      <td>0</td>\n",
       "      <td>0</td>\n",
       "    </tr>\n",
       "    <tr>\n",
       "      <th>1</th>\n",
       "      <td>43</td>\n",
       "      <td>0</td>\n",
       "      <td>0</td>\n",
       "      <td>0</td>\n",
       "      <td>0</td>\n",
       "      <td>0</td>\n",
       "      <td>0</td>\n",
       "      <td>0</td>\n",
       "      <td>0</td>\n",
       "      <td>0</td>\n",
       "      <td>...</td>\n",
       "      <td>0</td>\n",
       "      <td>0</td>\n",
       "      <td>0</td>\n",
       "      <td>0</td>\n",
       "      <td>0</td>\n",
       "      <td>0</td>\n",
       "      <td>0</td>\n",
       "      <td>0</td>\n",
       "      <td>0</td>\n",
       "      <td>0</td>\n",
       "    </tr>\n",
       "    <tr>\n",
       "      <th>2</th>\n",
       "      <td>15</td>\n",
       "      <td>0</td>\n",
       "      <td>0</td>\n",
       "      <td>0</td>\n",
       "      <td>0</td>\n",
       "      <td>0</td>\n",
       "      <td>0</td>\n",
       "      <td>0</td>\n",
       "      <td>0</td>\n",
       "      <td>0</td>\n",
       "      <td>...</td>\n",
       "      <td>0</td>\n",
       "      <td>0</td>\n",
       "      <td>0</td>\n",
       "      <td>0</td>\n",
       "      <td>0</td>\n",
       "      <td>0</td>\n",
       "      <td>0</td>\n",
       "      <td>0</td>\n",
       "      <td>0</td>\n",
       "      <td>0</td>\n",
       "    </tr>\n",
       "    <tr>\n",
       "      <th>3</th>\n",
       "      <td>4</td>\n",
       "      <td>0</td>\n",
       "      <td>0</td>\n",
       "      <td>0</td>\n",
       "      <td>0</td>\n",
       "      <td>0</td>\n",
       "      <td>0</td>\n",
       "      <td>0</td>\n",
       "      <td>0</td>\n",
       "      <td>0</td>\n",
       "      <td>...</td>\n",
       "      <td>0</td>\n",
       "      <td>0</td>\n",
       "      <td>0</td>\n",
       "      <td>0</td>\n",
       "      <td>0</td>\n",
       "      <td>0</td>\n",
       "      <td>0</td>\n",
       "      <td>0</td>\n",
       "      <td>0</td>\n",
       "      <td>0</td>\n",
       "    </tr>\n",
       "    <tr>\n",
       "      <th>4</th>\n",
       "      <td>42</td>\n",
       "      <td>0</td>\n",
       "      <td>0</td>\n",
       "      <td>0</td>\n",
       "      <td>0</td>\n",
       "      <td>0</td>\n",
       "      <td>0</td>\n",
       "      <td>0</td>\n",
       "      <td>0</td>\n",
       "      <td>0</td>\n",
       "      <td>...</td>\n",
       "      <td>0</td>\n",
       "      <td>0</td>\n",
       "      <td>0</td>\n",
       "      <td>0</td>\n",
       "      <td>0</td>\n",
       "      <td>0</td>\n",
       "      <td>0</td>\n",
       "      <td>0</td>\n",
       "      <td>0</td>\n",
       "      <td>0</td>\n",
       "    </tr>\n",
       "  </tbody>\n",
       "</table>\n",
       "<p>5 rows × 785 columns</p>\n",
       "</div>"
      ],
      "text/plain": [
       "   45  0  0.1  0.2  0.3  0.4  0.5  0.6  0.7  0.8  ...    0.524  0.525  0.526  \\\n",
       "0  36  0    0    0    0    0    0    0    0    0  ...        0      0      0   \n",
       "1  43  0    0    0    0    0    0    0    0    0  ...        0      0      0   \n",
       "2  15  0    0    0    0    0    0    0    0    0  ...        0      0      0   \n",
       "3   4  0    0    0    0    0    0    0    0    0  ...        0      0      0   \n",
       "4  42  0    0    0    0    0    0    0    0    0  ...        0      0      0   \n",
       "\n",
       "   0.527  0.528  0.529  0.530  0.531  0.532  0.533  \n",
       "0      0      0      0      0      0      0      0  \n",
       "1      0      0      0      0      0      0      0  \n",
       "2      0      0      0      0      0      0      0  \n",
       "3      0      0      0      0      0      0      0  \n",
       "4      0      0      0      0      0      0      0  \n",
       "\n",
       "[5 rows x 785 columns]"
      ]
     },
     "execution_count": 157,
     "metadata": {},
     "output_type": "execute_result"
    }
   ],
   "source": [
    "emnist_train.head()"
   ]
  },
  {
   "cell_type": "code",
   "execution_count": 158,
   "metadata": {},
   "outputs": [
    {
     "data": {
      "text/html": [
       "<div>\n",
       "<style scoped>\n",
       "    .dataframe tbody tr th:only-of-type {\n",
       "        vertical-align: middle;\n",
       "    }\n",
       "\n",
       "    .dataframe tbody tr th {\n",
       "        vertical-align: top;\n",
       "    }\n",
       "\n",
       "    .dataframe thead th {\n",
       "        text-align: right;\n",
       "    }\n",
       "</style>\n",
       "<table border=\"1\" class=\"dataframe\">\n",
       "  <thead>\n",
       "    <tr style=\"text-align: right;\">\n",
       "      <th></th>\n",
       "      <th>41</th>\n",
       "      <th>0</th>\n",
       "      <th>0.1</th>\n",
       "      <th>0.2</th>\n",
       "      <th>0.3</th>\n",
       "      <th>0.4</th>\n",
       "      <th>0.5</th>\n",
       "      <th>0.6</th>\n",
       "      <th>0.7</th>\n",
       "      <th>0.8</th>\n",
       "      <th>...</th>\n",
       "      <th>0.523</th>\n",
       "      <th>0.524</th>\n",
       "      <th>0.525</th>\n",
       "      <th>0.526</th>\n",
       "      <th>0.527</th>\n",
       "      <th>0.528</th>\n",
       "      <th>0.529</th>\n",
       "      <th>0.530</th>\n",
       "      <th>0.531</th>\n",
       "      <th>0.532</th>\n",
       "    </tr>\n",
       "  </thead>\n",
       "  <tbody>\n",
       "    <tr>\n",
       "      <th>0</th>\n",
       "      <td>39</td>\n",
       "      <td>0</td>\n",
       "      <td>0</td>\n",
       "      <td>0</td>\n",
       "      <td>0</td>\n",
       "      <td>0</td>\n",
       "      <td>0</td>\n",
       "      <td>0</td>\n",
       "      <td>0</td>\n",
       "      <td>0</td>\n",
       "      <td>...</td>\n",
       "      <td>0</td>\n",
       "      <td>0</td>\n",
       "      <td>0</td>\n",
       "      <td>0</td>\n",
       "      <td>0</td>\n",
       "      <td>0</td>\n",
       "      <td>0</td>\n",
       "      <td>0</td>\n",
       "      <td>0</td>\n",
       "      <td>0</td>\n",
       "    </tr>\n",
       "    <tr>\n",
       "      <th>1</th>\n",
       "      <td>9</td>\n",
       "      <td>0</td>\n",
       "      <td>0</td>\n",
       "      <td>0</td>\n",
       "      <td>0</td>\n",
       "      <td>0</td>\n",
       "      <td>0</td>\n",
       "      <td>0</td>\n",
       "      <td>0</td>\n",
       "      <td>0</td>\n",
       "      <td>...</td>\n",
       "      <td>0</td>\n",
       "      <td>0</td>\n",
       "      <td>0</td>\n",
       "      <td>0</td>\n",
       "      <td>0</td>\n",
       "      <td>0</td>\n",
       "      <td>0</td>\n",
       "      <td>0</td>\n",
       "      <td>0</td>\n",
       "      <td>0</td>\n",
       "    </tr>\n",
       "    <tr>\n",
       "      <th>2</th>\n",
       "      <td>26</td>\n",
       "      <td>0</td>\n",
       "      <td>0</td>\n",
       "      <td>0</td>\n",
       "      <td>0</td>\n",
       "      <td>0</td>\n",
       "      <td>0</td>\n",
       "      <td>0</td>\n",
       "      <td>0</td>\n",
       "      <td>0</td>\n",
       "      <td>...</td>\n",
       "      <td>0</td>\n",
       "      <td>0</td>\n",
       "      <td>0</td>\n",
       "      <td>0</td>\n",
       "      <td>0</td>\n",
       "      <td>0</td>\n",
       "      <td>0</td>\n",
       "      <td>0</td>\n",
       "      <td>0</td>\n",
       "      <td>0</td>\n",
       "    </tr>\n",
       "    <tr>\n",
       "      <th>3</th>\n",
       "      <td>44</td>\n",
       "      <td>0</td>\n",
       "      <td>0</td>\n",
       "      <td>0</td>\n",
       "      <td>0</td>\n",
       "      <td>0</td>\n",
       "      <td>0</td>\n",
       "      <td>0</td>\n",
       "      <td>0</td>\n",
       "      <td>0</td>\n",
       "      <td>...</td>\n",
       "      <td>0</td>\n",
       "      <td>0</td>\n",
       "      <td>0</td>\n",
       "      <td>0</td>\n",
       "      <td>0</td>\n",
       "      <td>0</td>\n",
       "      <td>0</td>\n",
       "      <td>0</td>\n",
       "      <td>0</td>\n",
       "      <td>0</td>\n",
       "    </tr>\n",
       "    <tr>\n",
       "      <th>4</th>\n",
       "      <td>33</td>\n",
       "      <td>0</td>\n",
       "      <td>0</td>\n",
       "      <td>0</td>\n",
       "      <td>0</td>\n",
       "      <td>0</td>\n",
       "      <td>0</td>\n",
       "      <td>0</td>\n",
       "      <td>0</td>\n",
       "      <td>0</td>\n",
       "      <td>...</td>\n",
       "      <td>0</td>\n",
       "      <td>0</td>\n",
       "      <td>0</td>\n",
       "      <td>0</td>\n",
       "      <td>0</td>\n",
       "      <td>0</td>\n",
       "      <td>0</td>\n",
       "      <td>0</td>\n",
       "      <td>0</td>\n",
       "      <td>0</td>\n",
       "    </tr>\n",
       "  </tbody>\n",
       "</table>\n",
       "<p>5 rows × 785 columns</p>\n",
       "</div>"
      ],
      "text/plain": [
       "   41  0  0.1  0.2  0.3  0.4  0.5  0.6  0.7  0.8  ...    0.523  0.524  0.525  \\\n",
       "0  39  0    0    0    0    0    0    0    0    0  ...        0      0      0   \n",
       "1   9  0    0    0    0    0    0    0    0    0  ...        0      0      0   \n",
       "2  26  0    0    0    0    0    0    0    0    0  ...        0      0      0   \n",
       "3  44  0    0    0    0    0    0    0    0    0  ...        0      0      0   \n",
       "4  33  0    0    0    0    0    0    0    0    0  ...        0      0      0   \n",
       "\n",
       "   0.526  0.527  0.528  0.529  0.530  0.531  0.532  \n",
       "0      0      0      0      0      0      0      0  \n",
       "1      0      0      0      0      0      0      0  \n",
       "2      0      0      0      0      0      0      0  \n",
       "3      0      0      0      0      0      0      0  \n",
       "4      0      0      0      0      0      0      0  \n",
       "\n",
       "[5 rows x 785 columns]"
      ]
     },
     "execution_count": 158,
     "metadata": {},
     "output_type": "execute_result"
    }
   ],
   "source": [
    "emnist_test.head()"
   ]
  },
  {
   "cell_type": "code",
   "execution_count": 159,
   "metadata": {},
   "outputs": [
    {
     "data": {
      "text/plain": [
       "(112799, 785)"
      ]
     },
     "execution_count": 159,
     "metadata": {},
     "output_type": "execute_result"
    }
   ],
   "source": [
    "emnist_train.shape"
   ]
  },
  {
   "cell_type": "code",
   "execution_count": 160,
   "metadata": {},
   "outputs": [
    {
     "data": {
      "text/plain": [
       "(18799, 785)"
      ]
     },
     "execution_count": 160,
     "metadata": {},
     "output_type": "execute_result"
    }
   ],
   "source": [
    "emnist_test.shape"
   ]
  },
  {
   "cell_type": "code",
   "execution_count": 161,
   "metadata": {},
   "outputs": [],
   "source": [
    "X_train = (emnist_train.iloc[:,1:])\n",
    "#Y_train = np.array(emnist_train['45'])\n",
    "Y_train = emnist_train.iloc[:, 0]"
   ]
  },
  {
   "cell_type": "code",
   "execution_count": 162,
   "metadata": {},
   "outputs": [
    {
     "data": {
      "text/plain": [
       "(112799, 784)"
      ]
     },
     "execution_count": 162,
     "metadata": {},
     "output_type": "execute_result"
    }
   ],
   "source": [
    "X_train.shape"
   ]
  },
  {
   "cell_type": "code",
   "execution_count": 163,
   "metadata": {},
   "outputs": [
    {
     "data": {
      "text/plain": [
       "array([ 0,  1,  2,  3,  4,  5,  6,  7,  8,  9, 10, 11, 12, 13, 14, 15, 16,\n",
       "       17, 18, 19, 20, 21, 22, 23, 24, 25, 26, 27, 28, 29, 30, 31, 32, 33,\n",
       "       34, 35, 36, 37, 38, 39, 40, 41, 42, 43, 44, 45, 46])"
      ]
     },
     "execution_count": 163,
     "metadata": {},
     "output_type": "execute_result"
    }
   ],
   "source": [
    "np.unique(Y_train)"
   ]
  },
  {
   "cell_type": "code",
   "execution_count": 164,
   "metadata": {},
   "outputs": [],
   "source": [
    "X_test =(emnist_test.drop(['41'], axis = 1))\n",
    "Y_test =(emnist_test.iloc[:,0])"
   ]
  },
  {
   "cell_type": "code",
   "execution_count": 165,
   "metadata": {},
   "outputs": [
    {
     "data": {
      "text/plain": [
       "array([ 0,  1,  2,  3,  4,  5,  6,  7,  8,  9, 10, 11, 12, 13, 14, 15, 16,\n",
       "       17, 18, 19, 20, 21, 22, 23, 24, 25, 26, 27, 28, 29, 30, 31, 32, 33,\n",
       "       34, 35, 36, 37, 38, 39, 40, 41, 42, 43, 44, 45, 46])"
      ]
     },
     "execution_count": 165,
     "metadata": {},
     "output_type": "execute_result"
    }
   ],
   "source": [
    "np.unique(Y_test)"
   ]
  },
  {
   "cell_type": "code",
   "execution_count": 166,
   "metadata": {},
   "outputs": [
    {
     "data": {
      "image/png": "[encoded data removed]",
      "text/plain": [
       "<Figure size 1440x720 with 1 Axes>"
      ]
     },
     "metadata": {
      "needs_background": "light"
     },
     "output_type": "display_data"
    }
   ],
   "source": [
    "#print (Y_train.value_counts())\n",
    "#print (emnist_train['45'].value_counts())\n",
    "plt.figure(figsize=(20,10))\n",
    "sns.countplot(emnist_train['45'])\n",
    "plt.show()# looks kinda okay\n",
    "     "
   ]
  },
  {
   "cell_type": "code",
   "execution_count": 167,
   "metadata": {},
   "outputs": [
    {
     "data": {
      "image/png": "[encoded data removed]",
      "text/plain": [
       "<Figure size 1080x288 with 4 Axes>"
      ]
     },
     "metadata": {
      "needs_background": "light"
     },
     "output_type": "display_data"
    }
   ],
   "source": [
    "plt.figure(figsize=(15,4))\n",
    "for index, (image, label) in enumerate(zip(np.array(X_train[0:4]), np.array(Y_train[0:5]))):\n",
    "    plt.subplot(1,4, index+1)\n",
    "    plt.imshow(np.reshape(image,(28,28)), cmap = plt.cm.gray)\n",
    "    plt.title('Training %i\\n'%label, fontsize = 15)"
   ]
  },
  {
   "cell_type": "code",
   "execution_count": null,
   "metadata": {},
   "outputs": [],
   "source": []
  }
 ],
 "metadata": {
  "kernelspec": {
   "display_name": "Python 3",
   "language": "python",
   "name": "python3"
  },
  "language_info": {
   "codemirror_mode": {
    "name": "ipython",
    "version": 3
   },
   "file_extension": ".py",
   "mimetype": "text/x-python",
   "name": "python",
   "nbconvert_exporter": "python",
   "pygments_lexer": "ipython3",
   "version": "3.7.3"
  }
 },
 "nbformat": 4,
 "nbformat_minor": 2
}
