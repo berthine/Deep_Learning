{
 "cells": [
  {
   "cell_type": "markdown",
   "metadata": {
    "colab_type": "text",
    "id": "RR8LbSoxjarZ"
   },
   "source": [
    " # Pytorch Tutorial \n",
    " \n",
    "link for more informations [**The Full Original Tutorial**](https://pytorch.org/tutorials/beginner/deep_learning_60min_blitz.html)\n",
    "What is PyTorch?\n",
    "================\n",
    "\n",
    "It’s a Python-based scientific computing package targeted at two sets of\n",
    "audiences:\n",
    "\n",
    "-  A replacement for NumPy to use the power of GPUs\n",
    "-  a deep learning research platform that provides maximum flexibility\n",
    "   and speed\n",
    "\n",
    "1.Getting Started\n",
    "---------------\n",
    "\n",
    "Tensors\n",
    "\n",
    "\n",
    "Tensors are similar to NumPy’s ndarrays, with the addition being that\n",
    "Tensors can also be used on a GPU to accelerate computing.\n",
    "\n"
   ]
  },
  {
   "cell_type": "code",
   "execution_count": 1,
   "metadata": {
    "colab": {},
    "colab_type": "code",
    "id": "f1SUhfX2iZvu"
   },
   "outputs": [],
   "source": [
    "import torch\n",
    "import matplotlib.pyplot as plt\n",
    "import numpy as np"
   ]
  },
  {
   "cell_type": "code",
   "execution_count": 2,
   "metadata": {
    "colab": {
     "base_uri": "https://localhost:8080/",
     "height": 51
    },
    "colab_type": "code",
    "id": "T-d6PCDGjn33",
    "outputId": "353b7464-242b-49ef-be95-e4e7f3f772e9"
   },
   "outputs": [
    {
     "data": {
      "text/plain": [
       "tensor([[1.2845e+31, 3.1100e-18, 1.2845e+31],\n",
       "        [2.7253e+20, 3.1093e-18, 1.3556e-19]])"
      ]
     },
     "execution_count": 2,
     "metadata": {},
     "output_type": "execute_result"
    }
   ],
   "source": [
    " #torch.empty()\n",
    "torch.empty((2,3))"
   ]
  },
  {
   "cell_type": "code",
   "execution_count": 3,
   "metadata": {
    "colab": {
     "base_uri": "https://localhost:8080/",
     "height": 68
    },
    "colab_type": "code",
    "id": "-iwzp904lG4Q",
    "outputId": "26c4c280-fc40-431a-de48-1182c4aeb89c"
   },
   "outputs": [
    {
     "data": {
      "text/plain": [
       "tensor([[0.7060, 0.3368, 0.0343, 0.7158],\n",
       "        [0.5409, 0.2820, 0.2463, 0.1280],\n",
       "        [0.7564, 0.7370, 0.6336, 0.8511]])"
      ]
     },
     "execution_count": 3,
     "metadata": {},
     "output_type": "execute_result"
    }
   ],
   "source": [
    "# torch.rand() \n",
    "torch.rand((3,4))"
   ]
  },
  {
   "cell_type": "code",
   "execution_count": 4,
   "metadata": {
    "colab": {
     "base_uri": "https://localhost:8080/",
     "height": 68
    },
    "colab_type": "code",
    "id": "dRV_nnlJw3Yd",
    "outputId": "1cb9cc43-3aab-4ce0-8243-b88a255d00b2"
   },
   "outputs": [
    {
     "data": {
      "text/plain": [
       "tensor([[0.5140, 0.9409, 0.2700, 0.3720],\n",
       "        [0.7026, 0.4400, 0.0200, 0.3157],\n",
       "        [0.4341, 0.5575, 0.6429, 0.2032]])"
      ]
     },
     "execution_count": 4,
     "metadata": {},
     "output_type": "execute_result"
    }
   ],
   "source": [
    "torch.rand(3,4) #random matrix"
   ]
  },
  {
   "cell_type": "code",
   "execution_count": 5,
   "metadata": {
    "colab": {
     "base_uri": "https://localhost:8080/",
     "height": 51
    },
    "colab_type": "code",
    "id": "Ve18uqMElRy6",
    "outputId": "d6146b22-ad55-4eb2-e590-aa335c79a40b"
   },
   "outputs": [
    {
     "data": {
      "text/plain": [
       "tensor([[0., 0., 0.],\n",
       "        [0., 0., 0.]])"
      ]
     },
     "execution_count": 5,
     "metadata": {},
     "output_type": "execute_result"
    }
   ],
   "source": [
    "# torch.zeros()\n",
    "torch.zeros((2,3))\n"
   ]
  },
  {
   "cell_type": "code",
   "execution_count": 6,
   "metadata": {
    "colab": {
     "base_uri": "https://localhost:8080/",
     "height": 34
    },
    "colab_type": "code",
    "id": "ZEHsJuCzldKF",
    "outputId": "921a582d-0785-4b41-83ae-6e046c0f409a"
   },
   "outputs": [
    {
     "data": {
      "text/plain": [
       "tensor([1, 2, 3])"
      ]
     },
     "execution_count": 6,
     "metadata": {},
     "output_type": "execute_result"
    }
   ],
   "source": [
    "# torch.tensor()\n",
    "torch.tensor([1,2,3])"
   ]
  },
  {
   "cell_type": "code",
   "execution_count": 7,
   "metadata": {
    "colab": {
     "base_uri": "https://localhost:8080/",
     "height": 51
    },
    "colab_type": "code",
    "id": "CYm7rPENl1T1",
    "outputId": "fab0deac-0173-4489-dc0c-eff607111f41"
   },
   "outputs": [
    {
     "data": {
      "text/plain": [
       "tensor([[-0.0651, -0.0644,  1.1524],\n",
       "        [ 0.3261,  0.1348, -0.2439]])"
      ]
     },
     "execution_count": 7,
     "metadata": {},
     "output_type": "execute_result"
    }
   ],
   "source": [
    "# torch.randn_like() i.e create a matrix with a size \n",
    "a = torch.zeros((2,3))\n",
    "torch.randn_like(a)"
   ]
  },
  {
   "cell_type": "code",
   "execution_count": 8,
   "metadata": {
    "colab": {
     "base_uri": "https://localhost:8080/",
     "height": 34
    },
    "colab_type": "code",
    "id": "rIF931adl-Dr",
    "outputId": "11a05c7c-2624-4d2d-dfa3-5c026712b363"
   },
   "outputs": [
    {
     "data": {
      "text/plain": [
       "torch.Size([2, 3])"
      ]
     },
     "execution_count": 8,
     "metadata": {},
     "output_type": "execute_result"
    }
   ],
   "source": [
    "# size()\n",
    "a.size()"
   ]
  },
  {
   "cell_type": "code",
   "execution_count": 9,
   "metadata": {
    "colab": {
     "base_uri": "https://localhost:8080/",
     "height": 51
    },
    "colab_type": "code",
    "id": "KilNAyw2mDWQ",
    "outputId": "7323a3a3-cb3d-4e26-de1a-8d970f98f954"
   },
   "outputs": [
    {
     "data": {
      "text/plain": [
       "tensor([[1.2888, 1.6645, 1.3358],\n",
       "        [0.3973, 0.8167, 1.2573]])"
      ]
     },
     "execution_count": 9,
     "metadata": {},
     "output_type": "execute_result"
    }
   ],
   "source": [
    "# torch.add()\n",
    "a = torch.rand(2,3)\n",
    "b = torch.rand(2,3)\n",
    "torch.add(a,b)"
   ]
  },
  {
   "cell_type": "code",
   "execution_count": 10,
   "metadata": {
    "colab": {
     "base_uri": "https://localhost:8080/",
     "height": 51
    },
    "colab_type": "code",
    "id": "Gcj6o9VHyr70",
    "outputId": "8f9e53ff-59dd-491b-9631-b995d1c212aa"
   },
   "outputs": [
    {
     "data": {
      "text/plain": [
       "tensor([[-0.0609,  0.0610,  0.3218],\n",
       "        [-0.1021, -0.5633,  0.1557]])"
      ]
     },
     "execution_count": 10,
     "metadata": {},
     "output_type": "execute_result"
    }
   ],
   "source": [
    "torch.sub(a,b)"
   ]
  },
  {
   "cell_type": "code",
   "execution_count": 11,
   "metadata": {
    "colab": {
     "base_uri": "https://localhost:8080/",
     "height": 51
    },
    "colab_type": "code",
    "id": "iqLy-Wd2zDrJ",
    "outputId": "bde1937f-95ef-46fc-a7f5-50b709eb5813"
   },
   "outputs": [
    {
     "name": "stdout",
     "output_type": "stream",
     "text": [
      "tensor([ 6,  8, 10])\n",
      "tensor([ 6,  8, 10])\n"
     ]
    }
   ],
   "source": [
    "x = torch.tensor([2,3,4])\n",
    "y = torch.tensor([4,5,6])\n",
    "print(x+y)\n",
    "print(torch.add(x,y))\n",
    "#print(torch.add_(x,y))"
   ]
  },
  {
   "cell_type": "code",
   "execution_count": 12,
   "metadata": {
    "colab": {
     "base_uri": "https://localhost:8080/",
     "height": 51
    },
    "colab_type": "code",
    "id": "n5dS3kS8mKkQ",
    "outputId": "17010d8d-3d79-4292-ec92-cdc8e1268df7"
   },
   "outputs": [
    {
     "name": "stdout",
     "output_type": "stream",
     "text": [
      "tensor([0.7782])\n"
     ]
    },
    {
     "data": {
      "text/plain": [
       "0.3326638340950012"
      ]
     },
     "execution_count": 12,
     "metadata": {},
     "output_type": "execute_result"
    }
   ],
   "source": [
    "# item()\n",
    "print(torch.rand(1))\n",
    "torch.rand(1).item() #give the value of the array, only for shape 1"
   ]
  },
  {
   "cell_type": "code",
   "execution_count": 13,
   "metadata": {
    "colab": {
     "base_uri": "https://localhost:8080/",
     "height": 34
    },
    "colab_type": "code",
    "id": "-7SBM_vUmyzL",
    "outputId": "825dc726-41af-4ab2-9996-4ae846db0cee"
   },
   "outputs": [
    {
     "data": {
      "text/plain": [
       "tensor([1, 2, 3])"
      ]
     },
     "execution_count": 13,
     "metadata": {},
     "output_type": "execute_result"
    }
   ],
   "source": [
    "# a.numpy()\n",
    "# torch.from_numpy()\n",
    "a = np.array([1,2,3])\n",
    "torch.from_numpy(a) #from numpy to tensor\n"
   ]
  },
  {
   "cell_type": "code",
   "execution_count": 14,
   "metadata": {
    "colab": {
     "base_uri": "https://localhost:8080/",
     "height": 34
    },
    "colab_type": "code",
    "id": "kc9TO1ut1GHo",
    "outputId": "06ad564a-8430-4669-811e-8930b4bfd437"
   },
   "outputs": [
    {
     "name": "stdout",
     "output_type": "stream",
     "text": [
      "[1 2 3]\n"
     ]
    }
   ],
   "source": [
    "print(torch.from_numpy(a).numpy()) #from tensor to numpy"
   ]
  },
  {
   "cell_type": "code",
   "execution_count": 15,
   "metadata": {
    "colab": {
     "base_uri": "https://localhost:8080/",
     "height": 34
    },
    "colab_type": "code",
    "id": "aqqSrEYInEj1",
    "outputId": "a1885cfa-2601-4ebb-e583-47bc7f42cf42"
   },
   "outputs": [
    {
     "data": {
      "text/plain": [
       "False"
      ]
     },
     "execution_count": 15,
     "metadata": {},
     "output_type": "execute_result"
    }
   ],
   "source": [
    " torch.cuda.is_available() #to check if you have GPU"
   ]
  },
  {
   "cell_type": "code",
   "execution_count": 16,
   "metadata": {
    "colab": {
     "base_uri": "https://localhost:8080/",
     "height": 51
    },
    "colab_type": "code",
    "id": "E13_G9-JmmAE",
    "outputId": "889ee195-2868-4636-b9ff-04b94702f6a1"
   },
   "outputs": [
    {
     "name": "stdout",
     "output_type": "stream",
     "text": [
      "CPU times: user 152 ms, sys: 14 ms, total: 166 ms\n",
      "Wall time: 55.2 ms\n"
     ]
    }
   ],
   "source": [
    "%%time\n",
    "a = torch.rand(1000,1000)\n",
    "y = torch.rand_like(a)\n",
    "for i in range(10):\n",
    "    y = y**y"
   ]
  },
  {
   "cell_type": "code",
   "execution_count": 19,
   "metadata": {
    "colab": {
     "base_uri": "https://localhost:8080/",
     "height": 51
    },
    "colab_type": "code",
    "id": "MMa4iHe11UdD",
    "outputId": "77fe2871-f07d-4889-9bc8-9aa90106ad56"
   },
   "outputs": [
    {
     "name": "stdout",
     "output_type": "stream",
     "text": [
      "CPU times: user 13.5 ms, sys: 260 µs, total: 13.8 ms\n",
      "Wall time: 11.7 ms\n"
     ]
    }
   ],
   "source": [
    "%%time\n",
    "a = torch.rand(1000,1000)\n",
    "# y = torch.rand_like(a, device='cuda') #put y in GPU\n",
    "#for i in range(10):\n",
    "#     y = y**y"
   ]
  },
  {
   "cell_type": "code",
   "execution_count": null,
   "metadata": {
    "colab": {},
    "colab_type": "code",
    "id": "OHrlTDjfnQSR"
   },
   "outputs": [],
   "source": []
  },
  {
   "cell_type": "markdown",
   "metadata": {
    "colab_type": "text",
    "id": "9jYBndyynTSz"
   },
   "source": [
    "# 2.Autograd: Automatic Differentiation\n",
    "\n",
    "\n",
    "``` code\n",
    "            def gradient(y,y_pred,x):\n",
    "                    return np.dot(x.T,(y_pred-y))\n",
    "\n",
    "```"
   ]
  },
  {
   "cell_type": "code",
   "execution_count": 20,
   "metadata": {
    "colab": {
     "base_uri": "https://localhost:8080/",
     "height": 51
    },
    "colab_type": "code",
    "id": "_okhpU_hnimx",
    "outputId": "c014ecdd-f6a3-40b6-83c6-5f622d0f0660"
   },
   "outputs": [
    {
     "name": "stdout",
     "output_type": "stream",
     "text": [
      "None None None\n",
      "tensor([0.4714], requires_grad=True) tensor([0.6405], requires_grad=True)\n"
     ]
    }
   ],
   "source": [
    "x = torch.rand(1, requires_grad=True)  # requires_grad=True means we can calculate gradient in this variable\n",
    "y = torch.rand(1, requires_grad=True)\n",
    "z= torch.rand(1, requires_grad=True)\n",
    "\n",
    "print(x.grad,y.grad,z.grad)\n",
    "print(x,y)"
   ]
  },
  {
   "cell_type": "code",
   "execution_count": 21,
   "metadata": {
    "colab": {
     "base_uri": "https://localhost:8080/",
     "height": 34
    },
    "colab_type": "code",
    "id": "OOjICfBPq5R5",
    "outputId": "b7e896fa-78eb-4a9d-c525-6440c7a3191b"
   },
   "outputs": [
    {
     "name": "stdout",
     "output_type": "stream",
     "text": [
      "tensor([0.6197], grad_fn=<SigmoidBackward>)\n"
     ]
    }
   ],
   "source": [
    "one = x * y       #two = (x*y)+z\n",
    "two = one + z\n",
    "three = torch.sigmoid(two)  #sigmoid of two\n",
    "\n",
    "print(three)"
   ]
  },
  {
   "cell_type": "code",
   "execution_count": 22,
   "metadata": {
    "colab": {
     "base_uri": "https://localhost:8080/",
     "height": 34
    },
    "colab_type": "code",
    "id": "-NkfalJXrMpU",
    "outputId": "69918670-9b26-41ff-ac06-e4772435ff18"
   },
   "outputs": [
    {
     "name": "stdout",
     "output_type": "stream",
     "text": [
      "tensor([0.1510]) tensor([0.1111]) tensor([0.2357])\n"
     ]
    }
   ],
   "source": [
    "three.backward()   #backpropagation from three respect to 3 variables\n",
    "\n",
    "print(x.grad,y.grad,z.grad)"
   ]
  },
  {
   "cell_type": "code",
   "execution_count": 23,
   "metadata": {
    "colab": {
     "base_uri": "https://localhost:8080/",
     "height": 34
    },
    "colab_type": "code",
    "id": "Zvw9F6e7rRl8",
    "outputId": "e3cf8f71-9f6d-4d28-a82f-ab4afac3326e"
   },
   "outputs": [
    {
     "data": {
      "text/plain": [
       "1024"
      ]
     },
     "execution_count": 23,
     "metadata": {},
     "output_type": "execute_result"
    }
   ],
   "source": [
    "\n",
    "32*32"
   ]
  },
  {
   "cell_type": "markdown",
   "metadata": {
    "colab_type": "text",
    "id": "_-5kJxXmuJ2l"
   },
   "source": [
    "# CNN"
   ]
  },
  {
   "cell_type": "code",
   "execution_count": 24,
   "metadata": {
    "colab": {},
    "colab_type": "code",
    "id": "j7kF3eo80iKG"
   },
   "outputs": [],
   "source": [
    "#function to compute the shape of the image\n",
    "def get_shape(h,p=0,k=3,s=1):    \n",
    "    return ((h+(2*p)-k)/s)+1"
   ]
  },
  {
   "cell_type": "code",
   "execution_count": 25,
   "metadata": {
    "colab": {
     "base_uri": "https://localhost:8080/",
     "height": 34
    },
    "colab_type": "code",
    "id": "5GnRmmE102Tq",
    "outputId": "39c3bb07-d973-41f9-d717-07e5bd094418"
   },
   "outputs": [
    {
     "data": {
      "text/plain": [
       "246.0"
      ]
     },
     "execution_count": 25,
     "metadata": {},
     "output_type": "execute_result"
    }
   ],
   "source": [
    "get_shape(244,k=3,p=2) #output shape of the convolution layer"
   ]
  },
  {
   "cell_type": "code",
   "execution_count": 26,
   "metadata": {
    "colab": {},
    "colab_type": "code",
    "id": "fTsCbfM6-uV5"
   },
   "outputs": [
    {
     "data": {
      "text/plain": [
       "123.0"
      ]
     },
     "execution_count": 26,
     "metadata": {},
     "output_type": "execute_result"
    }
   ],
   "source": [
    "get_shape(244,k=3,p=2)//2 #get the output shape of maxpooling"
   ]
  },
  {
   "cell_type": "code",
   "execution_count": 27,
   "metadata": {
    "colab": {},
    "colab_type": "code",
    "id": "nitsXv9Yvex_"
   },
   "outputs": [],
   "source": [
    "#import libraries\n",
    "import torch\n",
    "import torch.nn as nn\n",
    "import torch.nn.functional as F"
   ]
  },
  {
   "cell_type": "markdown",
   "metadata": {},
   "source": [
    "## Defining the model"
   ]
  },
  {
   "cell_type": "code",
   "execution_count": 28,
   "metadata": {
    "colab": {},
    "colab_type": "code",
    "id": "m4z3zoRDvkXs"
   },
   "outputs": [],
   "source": [
    "class Classification(nn.Module):\n",
    "    def __init__(self):\n",
    "        super(Classification,self).__init__()\n",
    "        self.conv1 = nn.Conv2d(in_channels=3,out_channels=64,kernel_size=3) # out_channels;any number different to 0\n",
    "        self.conv2 = nn.Conv2d(in_channels=64,out_channels=64,kernel_size=3)\n",
    "        self.conv3 = nn.Conv2d(in_channels=64,out_channels=64,kernel_size=3,padding=2)\n",
    "        self.conv4 = nn.Conv2d(in_channels=64,out_channels=64,kernel_size=3,padding=2)\n",
    "        self.fc1 = nn.Linear(in_features=3*3*64,out_features=120)\n",
    "        self.fc2 = nn.Linear(in_features = 120,out_features = 64)\n",
    "        self.fc3 = nn.Linear(in_features = 64,out_features = 10) #the input and the output are simular\n",
    "\n",
    "\n",
    "    def forward(self,x):\n",
    "        x = F.max_pool2d(F.relu(self.conv1(x)),2)\n",
    "        x = F.max_pool2d(F.relu(self.conv2(x)),2)\n",
    "        x = F.max_pool2d(F.relu(self.conv3(x)),2)\n",
    "        x = F.max_pool2d(F.relu(self.conv4(x)),2)\n",
    "\n",
    "        # print(self.num_flat_features(x))\n",
    "        x = x.view(-1,self.num_flat_features(x))\n",
    "\n",
    "        x = F.relu(self.fc1(x))\n",
    "        x = F.relu(self.fc2(x))\n",
    "        x = self.fc3(x)\n",
    "\n",
    "        return x\n",
    "\n",
    "    def num_flat_features(self,x):\n",
    "        size = x.size()[1:]\n",
    "        num_features = 1\n",
    "        for s in size:\n",
    "            num_features *= s\n",
    "        \n",
    "        return num_features\n",
    "\n"
   ]
  },
  {
   "cell_type": "code",
   "execution_count": 29,
   "metadata": {
    "colab": {
     "base_uri": "https://localhost:8080/",
     "height": 170
    },
    "colab_type": "code",
    "id": "-znffyVjzI6I",
    "outputId": "c4fe3e56-d4a2-4ef5-f4fd-bc90549aea1c"
   },
   "outputs": [
    {
     "name": "stdout",
     "output_type": "stream",
     "text": [
      "Classification(\n",
      "  (conv1): Conv2d(3, 64, kernel_size=(3, 3), stride=(1, 1))\n",
      "  (conv2): Conv2d(64, 64, kernel_size=(3, 3), stride=(1, 1))\n",
      "  (conv3): Conv2d(64, 64, kernel_size=(3, 3), stride=(1, 1), padding=(2, 2))\n",
      "  (conv4): Conv2d(64, 64, kernel_size=(3, 3), stride=(1, 1), padding=(2, 2))\n",
      "  (fc1): Linear(in_features=576, out_features=120, bias=True)\n",
      "  (fc2): Linear(in_features=120, out_features=64, bias=True)\n",
      "  (fc3): Linear(in_features=64, out_features=10, bias=True)\n",
      ")\n"
     ]
    }
   ],
   "source": [
    "net =  Classification()\n",
    "print(net)"
   ]
  },
  {
   "cell_type": "code",
   "execution_count": null,
   "metadata": {
    "colab": {},
    "colab_type": "code",
    "id": "-vceOKjQzZRe"
   },
   "outputs": [],
   "source": [
    "# from torchsummary import summary\n",
    "# summary(net.to('cpu'), (3, 224, 224))"
   ]
  },
  {
   "cell_type": "code",
   "execution_count": 30,
   "metadata": {
    "colab": {
     "base_uri": "https://localhost:8080/",
     "height": 34
    },
    "colab_type": "code",
    "id": "wLZU8a02zvT_",
    "outputId": "af75493e-257e-47a7-8f96-82dbd33e3c1d"
   },
   "outputs": [
    {
     "data": {
      "text/plain": [
       "torch.Size([64, 3, 3, 3])"
      ]
     },
     "execution_count": 30,
     "metadata": {},
     "output_type": "execute_result"
    }
   ],
   "source": [
    "param = list(net.parameters()) #get the number of parameters\n",
    "param[0].size()"
   ]
  },
  {
   "cell_type": "code",
   "execution_count": 31,
   "metadata": {
    "colab": {
     "base_uri": "https://localhost:8080/",
     "height": 34
    },
    "colab_type": "code",
    "id": "Ak2lqo2bADqT",
    "outputId": "d622882b-5251-49e2-a3d1-245ddb534db1"
   },
   "outputs": [
    {
     "data": {
      "text/plain": [
       "torch.Size([3, 3])"
      ]
     },
     "execution_count": 31,
     "metadata": {},
     "output_type": "execute_result"
    }
   ],
   "source": [
    "param[0][0][0].size()  #the first kernel"
   ]
  },
  {
   "cell_type": "code",
   "execution_count": 32,
   "metadata": {
    "colab": {
     "base_uri": "https://localhost:8080/",
     "height": 286
    },
    "colab_type": "code",
    "id": "_r_2JbvI19G6",
    "outputId": "819cb391-4be9-4a41-dab1-9babfd390816"
   },
   "outputs": [
    {
     "data": {
      "text/plain": [
       "<matplotlib.image.AxesImage at 0x7f9042dc5198>"
      ]
     },
     "execution_count": 32,
     "metadata": {},
     "output_type": "execute_result"
    },
    {
     "data": {
      "image/png": "[encoded data removed]",
      "text/plain": [
       "<Figure size 432x288 with 1 Axes>"
      ]
     },
     "metadata": {
      "needs_background": "light"
     },
     "output_type": "display_data"
    }
   ],
   "source": [
    " filter_0 = param[0][0][0].detach().numpy()\n",
    "plt.imshow(filter_0)"
   ]
  },
  {
   "cell_type": "code",
   "execution_count": 33,
   "metadata": {
    "colab": {
     "base_uri": "https://localhost:8080/",
     "height": 51
    },
    "colab_type": "code",
    "id": "wkYDp7dt229v",
    "outputId": "8db35eb1-a486-4389-a72e-15d56696b41c"
   },
   "outputs": [
    {
     "name": "stdout",
     "output_type": "stream",
     "text": [
      "tensor([[ 0.0757,  0.0932, -0.0718, -0.0962,  0.1020,  0.0733, -0.0348, -0.0351,\n",
      "          0.0286,  0.0328]], grad_fn=<AddmmBackward>)\n"
     ]
    }
   ],
   "source": [
    "input = torch.randn(1, 3, 32, 32)\n",
    "out = net(input)\n",
    "print(out)"
   ]
  },
  {
   "cell_type": "code",
   "execution_count": 34,
   "metadata": {
    "colab": {},
    "colab_type": "code",
    "id": "WNXXc94F33-B"
   },
   "outputs": [],
   "source": [
    "# Zero the gradient buffers of all parameters and backprops with random gradients:\n",
    "\n",
    "net.zero_grad()\n",
    "out.backward(torch.randn(1, 10))"
   ]
  },
  {
   "cell_type": "code",
   "execution_count": 35,
   "metadata": {
    "colab": {
     "base_uri": "https://localhost:8080/",
     "height": 34
    },
    "colab_type": "code",
    "id": "T_WYst4Y4-av",
    "outputId": "922f58d9-082e-4182-e2c4-ed2a32d197dd"
   },
   "outputs": [
    {
     "name": "stdout",
     "output_type": "stream",
     "text": [
      "tensor(1.0484, grad_fn=<MseLossBackward>)\n"
     ]
    }
   ],
   "source": [
    "# Loss Function\n",
    "output = net(input)\n",
    "target = torch.randn(10)  \n",
    "target = target.view(1, -1) \n",
    "\n",
    "criterion = nn.MSELoss()\n",
    "\n",
    "loss = criterion(output, target)\n",
    "print(loss)"
   ]
  },
  {
   "cell_type": "code",
   "execution_count": 36,
   "metadata": {
    "colab": {},
    "colab_type": "code",
    "id": "lklYNd4354vr"
   },
   "outputs": [],
   "source": [
    "loss.backward()\n",
    "# net.conv1.weight.grad"
   ]
  },
  {
   "cell_type": "code",
   "execution_count": 37,
   "metadata": {
    "colab": {
     "base_uri": "https://localhost:8080/",
     "height": 391
    },
    "colab_type": "code",
    "id": "mCKOwMQj6RxO",
    "outputId": "a9a9e903-f130-441c-e8d2-3733dabd042e"
   },
   "outputs": [
    {
     "name": "stdout",
     "output_type": "stream",
     "text": [
      "tensor([[ 0.0747,  0.0924, -0.0734, -0.0958,  0.1023,  0.0750, -0.0332, -0.0336,\n",
      "          0.0280,  0.0315]], grad_fn=<AddmmBackward>)\n",
      "Parameter containing:\n",
      "tensor([-0.0468,  0.1007,  0.0442,  0.1430, -0.1267,  0.0036,  0.0686, -0.1490,\n",
      "        -0.0846,  0.1668,  0.1552, -0.1008, -0.1688,  0.0842,  0.1912,  0.1754,\n",
      "        -0.1919, -0.0501,  0.0321, -0.1884,  0.0540, -0.1509, -0.0529, -0.1213,\n",
      "         0.1605, -0.0224, -0.1553,  0.1611, -0.0469,  0.1437,  0.0776,  0.0657,\n",
      "         0.1638,  0.1164, -0.1048, -0.0913,  0.0912, -0.1088, -0.1833,  0.1640,\n",
      "        -0.0252, -0.0797,  0.0649,  0.1152,  0.1675, -0.0304, -0.0839, -0.0188,\n",
      "        -0.1778, -0.0100,  0.1115, -0.0643,  0.0930,  0.0896,  0.0306, -0.1753,\n",
      "         0.1006,  0.0219,  0.0167, -0.1171,  0.0505, -0.0246, -0.1117,  0.1545],\n",
      "       requires_grad=True)\n",
      "Parameter containing:\n",
      "tensor([-0.0468,  0.1007,  0.0442,  0.1430, -0.1267,  0.0036,  0.0687, -0.1490,\n",
      "        -0.0846,  0.1668,  0.1552, -0.1008, -0.1688,  0.0842,  0.1912,  0.1754,\n",
      "        -0.1919, -0.0501,  0.0321, -0.1884,  0.0540, -0.1509, -0.0529, -0.1213,\n",
      "         0.1605, -0.0224, -0.1553,  0.1611, -0.0469,  0.1437,  0.0776,  0.0657,\n",
      "         0.1638,  0.1164, -0.1048, -0.0914,  0.0912, -0.1088, -0.1833,  0.1640,\n",
      "        -0.0252, -0.0797,  0.0649,  0.1152,  0.1675, -0.0304, -0.0839, -0.0188,\n",
      "        -0.1778, -0.0100,  0.1115, -0.0643,  0.0930,  0.0896,  0.0306, -0.1753,\n",
      "         0.1007,  0.0219,  0.0167, -0.1171,  0.0505, -0.0246, -0.1117,  0.1545],\n",
      "       requires_grad=True)\n"
     ]
    }
   ],
   "source": [
    "import torch.optim as optim\n",
    "\n",
    "input = torch.randn(1, 3, 32, 32) #random tensor\n",
    "out = net(input)\n",
    "print(out)\n",
    "\n",
    "optimizer = optim.SGD(net.parameters(), lr=0.01)\n",
    "\n",
    "optimizer.zero_grad() \n",
    "print(net.conv1.bias) #add bias \n",
    "output = net(input)\n",
    "loss = criterion(output, target)\n",
    "loss.backward()\n",
    "optimizer.step() #get gradient and update\n",
    "print(net.conv1.bias) "
   ]
  },
  {
   "cell_type": "markdown",
   "metadata": {
    "colab": {},
    "colab_type": "code",
    "id": "Rp_pLohn7B7Y"
   },
   "source": [
    " ### See you in the next note book for the training part!"
   ]
  }
 ],
 "metadata": {
  "accelerator": "GPU",
  "colab": {
   "collapsed_sections": [],
   "name": "Copy of Pytorch Tutorial.ipynb",
   "provenance": []
  },
  "kernelspec": {
   "display_name": "Python 3",
   "language": "python",
   "name": "python3"
  },
  "language_info": {
   "codemirror_mode": {
    "name": "ipython",
    "version": 3
   },
   "file_extension": ".py",
   "mimetype": "text/x-python",
   "name": "python",
   "nbconvert_exporter": "python",
   "pygments_lexer": "ipython3",
   "version": "3.7.3"
  }
 },
 "nbformat": 4,
 "nbformat_minor": 2
}
